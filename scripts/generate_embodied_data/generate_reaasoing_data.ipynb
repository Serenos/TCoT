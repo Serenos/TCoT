{
 "cells": [
  {
   "cell_type": "code",
   "execution_count": 2,
   "metadata": {},
   "outputs": [
    {
     "name": "stderr",
     "output_type": "stream",
     "text": [
      "2024-10-20 00:49:50.484811: E external/local_xla/xla/stream_executor/cuda/cuda_dnn.cc:9261] Unable to register cuDNN factory: Attempting to register factory for plugin cuDNN when one has already been registered\n",
      "2024-10-20 00:49:50.484893: E external/local_xla/xla/stream_executor/cuda/cuda_fft.cc:607] Unable to register cuFFT factory: Attempting to register factory for plugin cuFFT when one has already been registered\n",
      "2024-10-20 00:49:50.485783: E external/local_xla/xla/stream_executor/cuda/cuda_blas.cc:1515] Unable to register cuBLAS factory: Attempting to register factory for plugin cuBLAS when one has already been registered\n",
      "2024-10-20 00:49:50.491674: I tensorflow/core/platform/cpu_feature_guard.cc:182] This TensorFlow binary is optimized to use available CPU instructions in performance-critical operations.\n",
      "To enable the following instructions: AVX2 FMA, in other operations, rebuild TensorFlow with the appropriate compiler flags.\n",
      "2024-10-20 00:49:51.126283: W tensorflow/compiler/tf2tensorrt/utils/py_utils.cc:38] TF-TRT Warning: Could not find TensorRT\n"
     ]
    }
   ],
   "source": [
    "import json\n",
    "import os\n",
    "import re\n",
    "import time\n",
    "from scripts.generate_embodied_data.primitive_movements import get_move_primitives_episode\n",
    "import tensorflow_datasets as tfds\n",
    "from prismatic import load # ?important for tfds to not cost GPU memory"
   ]
  },
  {
   "cell_type": "code",
   "execution_count": 3,
   "metadata": {},
   "outputs": [],
   "source": [
    "local_path=\"/home/lixiang/codebase/embodied-CoT/datasets/libero/libero_spatial_no_noops/1.0.0\"\n",
    "builder = tfds.builder_from_directory(builder_dir=local_path)"
   ]
  },
  {
   "cell_type": "code",
   "execution_count": 4,
   "metadata": {},
   "outputs": [],
   "source": [
    "episide_ids = range(builder.info.splits['train'].num_examples)"
   ]
  },
  {
   "cell_type": "code",
   "execution_count": 5,
   "metadata": {},
   "outputs": [],
   "source": [
    "def build_prompt(features, language_instruction, caption=None, list_only_moves=False):\n",
    "    structured_features = \"{\\n\"\n",
    "\n",
    "    keys = list(features.keys())\n",
    "\n",
    "    for i in range(len(features[keys[0]])):\n",
    "        if list_only_moves:\n",
    "            structured_features = structured_features + f'    {i}: \"{features[\"move_primitive\"][i]}\"\\n'\n",
    "        else:\n",
    "            structured_features = structured_features + f'    {i}: {\"{\"}\\n'\n",
    "\n",
    "            for key in keys:\n",
    "                feature_value = features[key][i]\n",
    "                if isinstance(feature_value, str):\n",
    "                    feature_value = f'\"{feature_value}\"'\n",
    "\n",
    "                structured_features = structured_features + f'        \"{key}\": {feature_value},\\n'\n",
    "\n",
    "            structured_features = structured_features + \"    },\\n\"\n",
    "\n",
    "    structured_features = structured_features + \"}\"\n",
    "\n",
    "    if list_only_moves:\n",
    "        features_desc = (\n",
    "            \"Each entry in that dictionary corresponds to a single step on the \"\n",
    "            \"trajectory and describes the move that is about to be executed.\"\n",
    "        )\n",
    "    else:\n",
    "        features_desc = (\n",
    "            \"Each entry in that dictionary corresponds to a single step on \"\n",
    "            \"the trajectory. The provided features are the following:\\n\"\n",
    "            \"\\n\"\n",
    "            '- \"state_3d\" are the current 3d coordinates of the robotic arm end effector; '\n",
    "            \"moving forward increases the first coordinate; moving left increases the second \"\n",
    "            \"coordinate; moving up increases the third coordinate,\\n\"\n",
    "            '- \"move_primitive\" describes the move that is about to be executed,\\n'\n",
    "            '- \"gripper_position\" denotes the location of the gripper in the 256x256 image observation'\n",
    "        )\n",
    "\n",
    "    if caption is None:\n",
    "        caption = \"\"\n",
    "    else:\n",
    "        caption = f\"\"\"## Scene description\n",
    "\n",
    "The robot is operating in the following environment. {caption}\n",
    "\n",
    "\"\"\"\n",
    "\n",
    "    break_line = \"\"  # for line formatting\n",
    "\n",
    "    return f\"\"\"# Annotate the training trajectory with reasoning\n",
    "\n",
    "## Specification of the experimental setup\n",
    "\n",
    "You're an expert reinforcement learning researcher. You've trained an optimal policy for controlling a robotic arm. The\n",
    "robot successfully completed a task specified by the instruction: \"{language_instruction}\". For that purpose, the\n",
    "robotic arm executed a sequence of actions. Consecutive moves that were executed are the following:\n",
    "\n",
    "\n",
    "```python\n",
    "trajectory_features = {structured_features}\n",
    "```\n",
    "\n",
    "{features_desc}\n",
    "\n",
    "{caption}## Your objective\n",
    "\n",
    "I want you to annotate the given trajectory with reasoning. That is, for each step, I need to know not only {\n",
    "break_line}which action should be chosen, but importantly what reasoning justifies that action choice. I want you to {\n",
    "break_line}be descriptive and include all the relevant information available. The reasoning should include the task {\n",
    "break_line}to complete, the remaining high-level steps, the high-level movements that should be executed and why they {\n",
    "break_line}are required, the premises that allow inferring the direction of each move, including the locations of {\n",
    "break_line}relevant objects, possible obstacles or difficulties to avoid, and any other relevant justification.\n",
    "\n",
    "### Begin by describing the task\n",
    "\n",
    "Start by giving an overview of the task. Make it more comprehensive than the simple instruction. Include the activity, {\n",
    "break_line}the objects the robotic arm interacts with, and their relative locations in the environment. Then, describe {\n",
    "break_line}the high-level movements that were most likely executed, based on the task that was completed and the {\n",
    "break_line}primitive movements that were executed. Then, for each high-level movement write the interval of steps that {\n",
    "break_line}movement consists of. Also, for each high-level movement write a justification for why it should be {\n",
    "break_line}executed. Write an answer for this part using markdown and natural language. Be descriptive and highlight {\n",
    "break_line}all the relevant details, but ensure that your description is consistent with the trajectory that was {\n",
    "break_line}executed, specified by the features listed above in the `trajectory_features` dictionary.\n",
    "\n",
    "### List the reasonings for each step\n",
    "\n",
    "Finally, for each step describe the reasoning that allows to determine the correct action. For each step describe the {\n",
    "break_line}remaining part of the objective, the current progress, the objects that are still relevant for determining {\n",
    "break_line}the plan, and the plan for the next steps, based on the available features. Start the reasoning from a high {\n",
    "break_line}level and gradually add finer features. I need you to be descriptive and very precise. Ensure that the {\n",
    "break_line}reasoning is consistent with the task and the executed trajectory. Write the answer for this part as a {\n",
    "break_line}Python-executable dictionary. For every step in the initial trajectory there should be exactly one separate {\n",
    "break_line}item of the form <step id>:<reasoning>. Do not group the answers. The final dictionary should have exactly {\n",
    "break_line}the same set of integer keys as the dictionary of features provided in the `trajectory_features` dictionary {\n",
    "break_line}above. The reasoning should be a single string that describes the reasoning in natural language and {\n",
    "break_line}includes all the required features.\n",
    "\n",
    "Each reasoning string should have the following form:\n",
    "- Describe the full task that remains to be completed (but only describe what remains), and place it inside a {\n",
    "break_line}tag <task>.\n",
    "- Describe the complete high-level plan for completing the remaining task (the list of remaining high-level steps), {\n",
    "break_line}and place it inside a tag <plan>.\n",
    "- Describe the high-level step that should be executed now (chosen from the list of high-level steps), and place it {\n",
    "break_line}inside a tag <subtask>.\n",
    "- Describe why the chosen high-level step should be executed now, which features of the current environment influence {\n",
    "break_line}that decision, and how it should be done. Place it within a tag <subtask_reason>.\n",
    "- Describe the current primitive movement of the arm that needs to be executed, and place it inside a tag <move>.\n",
    "- Describe why the chosen movement should be executed now and which features of the current environment influence that {\n",
    "break_line}decision. Place it inside a tag <move_reason>.\n",
    "\n",
    "## Task summary\n",
    "\n",
    "Here is a breakdown of what needs to be done:\n",
    "\n",
    "- Describe the task.\n",
    "- Describe the high-level movements that were executed, based on the completed task and the listed features.\n",
    "- Describe the plan for the solution that allowed the robot to complete the task successfully.\n",
    "- For each step on the trajectory, describe the reasoning that leads to determining the correct action. The reasoning {\n",
    "break_line}should be descriptive and precise. You should provide exactly one reasoning string for each step on the {\n",
    "break_line}trajectory specified by `trajectory_features`.\n",
    "- At the very end of the response, write a single label FINISHED to indicate that the answer is complete.\"\"\"\n"
   ]
  },
  {
   "cell_type": "code",
   "execution_count": 6,
   "metadata": {},
   "outputs": [],
   "source": [
    "def build_prompt2(features, language_instruction, caption=None, list_only_moves=False):\n",
    "    structured_features = \"{\\n\"\n",
    "\n",
    "    keys = list(features.keys())\n",
    "\n",
    "    for i in range(len(features[keys[0]])):\n",
    "        if list_only_moves:\n",
    "            structured_features = structured_features + f'    {i}: \"{features[\"move_primitive\"][i]}\"\\n'\n",
    "        else:\n",
    "            structured_features = structured_features + f'    {i}: {\"{\"}\\n'\n",
    "\n",
    "            for key in keys:\n",
    "                feature_value = features[key][i]\n",
    "                if isinstance(feature_value, str):\n",
    "                    feature_value = f'\"{feature_value}\"'\n",
    "\n",
    "                structured_features = structured_features + f'        \"{key}\": {feature_value},\\n'\n",
    "\n",
    "            structured_features = structured_features + \"    },\\n\"\n",
    "\n",
    "    structured_features = structured_features + \"}\"\n",
    "\n",
    "    if list_only_moves:\n",
    "        features_desc = (\n",
    "            \"Each entry in that dictionary corresponds to a single step on the \"\n",
    "            \"trajectory and describes the move that is about to be executed.\"\n",
    "        )\n",
    "    else:\n",
    "        features_desc = (\n",
    "            \"Each entry in that dictionary corresponds to a single step on \"\n",
    "            \"the trajectory. The provided features are the following:\\n\"\n",
    "            \"\\n\"\n",
    "            '- \"state_3d\" are the current 3d coordinates of the robotic arm end effector; '\n",
    "            \"moving forward increases the first coordinate; moving left increases the second \"\n",
    "            \"coordinate; moving up increases the third coordinate,\\n\"\n",
    "            '- \"move_primitive\" describes the move that is about to be executed,\\n'\n",
    "            '- \"gripper_position\" denotes the location of the gripper in the 256x256 image observation'\n",
    "        )\n",
    "\n",
    "    if caption is None:\n",
    "        caption = \"\"\n",
    "    else:\n",
    "        caption = f\"\"\"## Scene description\n",
    "\n",
    "The robot is operating in the following environment. {caption}\n",
    "\n",
    "\"\"\"\n",
    "\n",
    "    break_line = \"\"  # for line formatting\n",
    "\n",
    "    return f\"\"\"# Annotate the training trajectory with reasoning\n",
    "\n",
    "## Specification of the experimental setup\n",
    "\n",
    "You're an expert reinforcement learning researcher. You've trained an optimal policy for controlling a robotic arm. The\n",
    "robot successfully completed a task specified by the instruction: \"{language_instruction}\". For that purpose, the\n",
    "robotic arm executed a sequence of actions. Consecutive moves that were executed are the following:\n",
    "\n",
    "\n",
    "```python\n",
    "trajectory_features = {structured_features}\n",
    "```\n",
    "\n",
    "{features_desc}\n",
    "\n",
    "{caption}## Your objective\n",
    "\n",
    "I want you to annotate the given trajectory with reasoning. That is, for each step, I need to know not only {\n",
    "break_line}which action should be chosen, but importantly what reasoning justifies that action choice. I want you to {\n",
    "break_line}be descriptive and include all the relevant information available. The reasoning should include the task {\n",
    "break_line}to complete, the remaining high-level steps, the high-level movements that should be executed and why they {\n",
    "break_line}are required, the premises that allow inferring the direction of each move, including the locations of {\n",
    "break_line}relevant objects, possible obstacles or difficulties to avoid, and any other relevant justification.\n",
    "\n",
    "### Begin by describing the task\n",
    "\n",
    "Start by giving an overview of the task. Make it more comprehensive than the simple instruction. Include the activity, {\n",
    "break_line}the objects the robotic arm interacts with, and their relative locations in the environment. Then, describe {\n",
    "break_line}the high-level movements that were most likely executed, based on the task that was completed and the {\n",
    "break_line}primitive movements that were executed. Then, for each high-level movement write the interval of steps that {\n",
    "break_line}movement consists of. Also, for each high-level movement write a justification for why it should be {\n",
    "break_line}executed. Write an answer for this part using markdown and natural language. Be descriptive and highlight {\n",
    "break_line}all the relevant details, but ensure that your description is consistent with the trajectory that was {\n",
    "break_line}executed, specified by the features listed above in the `trajectory_features` dictionary.\n",
    "\n",
    "### List the reasonings for each step\n",
    "\n",
    "Finally, for each step describe the reasoning that allows to determine the correct action. For each step describe the {\n",
    "break_line}remaining part of the objective, the current progress, the objects that are still relevant for determining {\n",
    "break_line}the plan, and the plan for the next steps, based on the available features. Start the reasoning from a high {\n",
    "break_line}level and gradually add finer features. I need you to be descriptive and very precise. Ensure that the {\n",
    "break_line}reasoning is consistent with the task and the executed trajectory. Write the answer for this part as a {\n",
    "break_line}Python-executable dictionary. For every step in the initial trajectory there should be exactly one separate {\n",
    "break_line}item of the form <step id>:<reasoning>. <reasoning> can be set to 'same' if it is the same as last step. The final dictionary should have exactly {\n",
    "break_line}the same set of integer keys as the dictionary of features provided in the `trajectory_features` dictionary {\n",
    "break_line}above. The reasoning should be a single string that describes the reasoning in natural language and {\n",
    "break_line}includes all the required features.\n",
    "\n",
    "Each reasoning string should have the following form:\n",
    "- Describe the full task that remains to be completed (but only describe what remains), and place it inside a {\n",
    "break_line}tag <task>.\n",
    "- Describe the complete high-level plan for completing the remaining task (the list of remaining high-level steps), {\n",
    "break_line}and place it inside a tag <plan>.\n",
    "- Describe the high-level step that should be executed now (chosen from the list of high-level steps), and place it {\n",
    "break_line}inside a tag <subtask>.\n",
    "- Describe why the chosen high-level step should be executed now, which features of the current environment influence {\n",
    "break_line}that decision, and how it should be done. Place it within a tag <subtask_reason>.\n",
    "- Describe the current primitive movement of the arm that needs to be executed, and place it inside a tag <move>.\n",
    "- Describe why the chosen movement should be executed now and which features of the current environment influence that {\n",
    "break_line}decision. Place it inside a tag <move_reason>.\n",
    "\n",
    "## Task summary\n",
    "\n",
    "Here is a breakdown of what needs to be done:\n",
    "\n",
    "- Describe the task.\n",
    "- Describe the high-level movements that were executed, based on the completed task and the listed features.\n",
    "- Describe the plan for the solution that allowed the robot to complete the task successfully.\n",
    "- For each step on the trajectory, describe the reasoning that leads to determining the correct action. Reasoning can be set to 'same' if it is the same as last step.\n",
    "- At the very end of the response, write a single label FINISHED to indicate that the answer is complete.\"\"\""
   ]
  },
  {
   "cell_type": "code",
   "execution_count": 7,
   "metadata": {},
   "outputs": [],
   "source": [
    "reasonings = dict()\n",
    "with open(\"/home/lixiang/codebase/embodied-CoT/scripts/generate_embodied_data/bounding_boxes/descriptions/full_descriptions.json\", \"r\") as captions_file:\n",
    "    captions_dict = json.load(captions_file)"
   ]
  },
  {
   "cell_type": "code",
   "execution_count": 8,
   "metadata": {},
   "outputs": [],
   "source": [
    "ds = builder.as_dataset(split=f'train[{0}%:{100}%]')\n",
    "#episode = next(iter(ds))"
   ]
  },
  {
   "cell_type": "code",
   "execution_count": null,
   "metadata": {},
   "outputs": [],
   "source": [
    "ds = builder.as_dataset(f'train[16:17]')"
   ]
  },
  {
   "cell_type": "code",
   "execution_count": 10,
   "metadata": {},
   "outputs": [],
   "source": [
    "for i, episode in enumerate(ds):\n",
    "    if i == 16:\n",
    "        episode_id = i #episode[\"episode_metadata\"][\"episode_id\"].numpy()\n",
    "        file_path = episode[\"episode_metadata\"][\"file_path\"].numpy().decode()\n",
    "        break"
   ]
  },
  {
   "cell_type": "code",
   "execution_count": 11,
   "metadata": {},
   "outputs": [],
   "source": [
    "ft = dict()\n",
    "ft[\"state_3d\"] = [list(step[\"observation\"][\"state\"][:3].numpy()) for step in episode[\"steps\"]]\n",
    "move_primitives = get_move_primitives_episode(episode)\n",
    "ft[\"move_primitive\"] = [move[0] for move in move_primitives]"
   ]
  },
  {
   "cell_type": "code",
   "execution_count": 12,
   "metadata": {},
   "outputs": [],
   "source": [
    "mt = {\n",
    "    \"episode_id\": str(episode_id),\n",
    "    \"file_path\": str(episode[\"episode_metadata\"][\"file_path\"].numpy())[2:-1],\n",
    "    \"n_steps\": len(episode[\"steps\"]),\n",
    "    \"language_instruction\": str(next(iter(episode[\"steps\"]))[\"language_instruction\"].numpy().decode()),\n",
    "}"
   ]
  },
  {
   "cell_type": "code",
   "execution_count": 13,
   "metadata": {},
   "outputs": [],
   "source": [
    "mt[\"caption\"] = captions_dict[mt[\"file_path\"]][mt[\"episode_id\"]][\"caption\"]"
   ]
  },
  {
   "cell_type": "code",
   "execution_count": 26,
   "metadata": {},
   "outputs": [
    {
     "name": "stdout",
     "output_type": "stream",
     "text": [
      "metadata: {'episode_id': '1', 'file_path': '/iris/u/moojink/prismatic-dev/LIBERO/libero/datasets/regenerated--no_noops/libero_spatial/pick_up_the_black_bowl_in_the_top_drawer_of_the_wooden_cabinet_and_place_it_on_the_plate_demo.hdf5', 'n_steps': 138, 'language_instruction': 'pick up the black bowl in the top drawer of the wooden cabinet and place it on the plate', 'caption': 'A silver robot arm is picking up a black bowl from the top drawer of a wooden cabinet, which has a white plate on the countertop nearby.'} \n",
      "prompt: # Annotate the training trajectory with reasoning\n",
      "\n",
      "## Specification of the experimental setup\n",
      "\n",
      "You're an expert reinforcement learning researcher. You've trained an optimal policy for controlling a robotic arm. The\n",
      "robot successfully completed a task specified by the instruction: \"pick up the black bowl in the top drawer of the wooden cabinet and place it on the plate\". For that purpose, the\n",
      "robotic arm executed a sequence of actions. Consecutive moves that were executed are the following:\n",
      "\n",
      "\n",
      "```python\n",
      "trajectory_features = {\n",
      "    0: \"stop\"\n",
      "    1: \"stop\"\n",
      "    2: \"stop\"\n",
      "    3: \"stop\"\n",
      "    4: \"stop\"\n",
      "    5: \"stop\"\n",
      "    6: \"stop\"\n",
      "    7: \"stop\"\n",
      "    8: \"move forward\"\n",
      "    9: \"move forward\"\n",
      "    10: \"move forward\"\n",
      "    11: \"stop\"\n",
      "    12: \"stop\"\n",
      "    13: \"stop\"\n",
      "    14: \"stop\"\n",
      "    15: \"stop\"\n",
      "    16: \"stop\"\n",
      "    17: \"stop\"\n",
      "    18: \"stop\"\n",
      "    19: \"stop\"\n",
      "    20: \"stop\"\n",
      "    21: \"stop\"\n",
      "    22: \"stop\"\n",
      "    23: \"stop\"\n",
      "    24: \"stop\"\n",
      "    25: \"stop\"\n",
      "    26: \"stop\"\n",
      "    27: \"stop\"\n",
      "    28: \"stop\"\n",
      "    29: \"stop\"\n",
      "    30: \"stop\"\n",
      "    31: \"stop\"\n",
      "    32: \"stop\"\n",
      "    33: \"stop\"\n",
      "    34: \"stop\"\n",
      "    35: \"stop\"\n",
      "    36: \"stop\"\n",
      "    37: \"stop\"\n",
      "    38: \"stop\"\n",
      "    39: \"stop\"\n",
      "    40: \"stop\"\n",
      "    41: \"stop\"\n",
      "    42: \"stop\"\n",
      "    43: \"stop\"\n",
      "    44: \"stop\"\n",
      "    45: \"stop\"\n",
      "    46: \"stop\"\n",
      "    47: \"stop\"\n",
      "    48: \"stop\"\n",
      "    49: \"stop\"\n",
      "    50: \"stop\"\n",
      "    51: \"stop\"\n",
      "    52: \"stop\"\n",
      "    53: \"stop\"\n",
      "    54: \"stop\"\n",
      "    55: \"stop\"\n",
      "    56: \"stop\"\n",
      "    57: \"stop\"\n",
      "    58: \"stop\"\n",
      "    59: \"stop\"\n",
      "    60: \"move up\"\n",
      "    61: \"move up\"\n",
      "    62: \"move up\"\n",
      "    63: \"move up\"\n",
      "    64: \"move up\"\n",
      "    65: \"move up\"\n",
      "    66: \"move up\"\n",
      "    67: \"stop\"\n",
      "    68: \"stop\"\n",
      "    69: \"stop\"\n",
      "    70: \"stop\"\n",
      "    71: \"stop\"\n",
      "    72: \"stop\"\n",
      "    73: \"stop\"\n",
      "    74: \"stop\"\n",
      "    75: \"stop\"\n",
      "    76: \"stop\"\n",
      "    77: \"stop\"\n",
      "    78: \"stop\"\n",
      "    79: \"stop\"\n",
      "    80: \"move left\"\n",
      "    81: \"move left\"\n",
      "    82: \"move left\"\n",
      "    83: \"move left\"\n",
      "    84: \"move left\"\n",
      "    85: \"stop\"\n",
      "    86: \"stop\"\n",
      "    87: \"stop\"\n",
      "    88: \"stop\"\n",
      "    89: \"stop\"\n",
      "    90: \"stop\"\n",
      "    91: \"stop\"\n",
      "    92: \"stop\"\n",
      "    93: \"stop\"\n",
      "    94: \"stop\"\n",
      "    95: \"stop\"\n",
      "    96: \"stop\"\n",
      "    97: \"stop\"\n",
      "    98: \"stop\"\n",
      "    99: \"stop\"\n",
      "    100: \"stop\"\n",
      "    101: \"stop\"\n",
      "    102: \"stop\"\n",
      "    103: \"stop\"\n",
      "    104: \"stop\"\n",
      "    105: \"stop\"\n",
      "    106: \"stop\"\n",
      "    107: \"stop\"\n",
      "    108: \"stop\"\n",
      "    109: \"stop\"\n",
      "    110: \"stop\"\n",
      "    111: \"stop\"\n",
      "    112: \"stop\"\n",
      "    113: \"stop\"\n",
      "    114: \"stop\"\n",
      "    115: \"stop\"\n",
      "    116: \"stop\"\n",
      "    117: \"stop\"\n",
      "    118: \"stop\"\n",
      "    119: \"stop\"\n",
      "    120: \"stop\"\n",
      "    121: \"stop\"\n",
      "    122: \"stop\"\n",
      "    123: \"stop\"\n",
      "    124: \"stop\"\n",
      "    125: \"stop\"\n",
      "    126: \"stop\"\n",
      "    127: \"stop\"\n",
      "    128: \"stop\"\n",
      "    129: \"stop\"\n",
      "    130: \"stop\"\n",
      "    131: \"stop\"\n",
      "    132: \"stop\"\n",
      "    133: \"stop\"\n",
      "    134: \"stop\"\n",
      "    135: \"stop\"\n",
      "    136: \"stop\"\n",
      "    137: \"stop\"\n",
      "}\n",
      "```\n",
      "\n",
      "Each entry in that dictionary corresponds to a single step on the trajectory and describes the move that is about to be executed.\n",
      "\n",
      "## Scene description\n",
      "\n",
      "The robot is operating in the following environment. A silver robot arm is picking up a black bowl from the top drawer of a wooden cabinet, which has a white plate on the countertop nearby.\n",
      "\n",
      "## Your objective\n",
      "\n",
      "I want you to annotate the given trajectory with reasoning. That is, for each step, I need to know not only which action should be chosen, but importantly what reasoning justifies that action choice. I want you to be descriptive and include all the relevant information available. The reasoning should include the task to complete, the remaining high-level steps, the high-level movements that should be executed and why they are required, the premises that allow inferring the direction of each move, including the locations of relevant objects, possible obstacles or difficulties to avoid, and any other relevant justification.\n",
      "\n",
      "### Begin by describing the task\n",
      "\n",
      "Start by giving an overview of the task. Make it more comprehensive than the simple instruction. Include the activity, the objects the robotic arm interacts with, and their relative locations in the environment. Then, describe the high-level movements that were most likely executed, based on the task that was completed and the primitive movements that were executed. Then, for each high-level movement write the interval of steps that movement consists of. Also, for each high-level movement write a justification for why it should be executed. Write an answer for this part using markdown and natural language. Be descriptive and highlight all the relevant details, but ensure that your description is consistent with the trajectory that was executed, specified by the features listed above in the `trajectory_features` dictionary.\n",
      "\n",
      "### List the reasonings for each step\n",
      "\n",
      "Finally, for each step describe the reasoning that allows to determine the correct action. For each step describe the remaining part of the objective, the current progress, the objects that are still relevant for determining the plan, and the plan for the next steps, based on the available features. Start the reasoning from a high level and gradually add finer features. I need you to be descriptive and very precise. Ensure that the reasoning is consistent with the task and the executed trajectory. Write the answer for this part as a Python-executable dictionary. For every step in the initial trajectory there should be exactly one separate item of the form <step id>:<reasoning>. <reasoning> can be set to 'same' if it is the same as last step. The final dictionary should have exactly the same set of integer keys as the dictionary of features provided in the `trajectory_features` dictionary above. The reasoning should be a single string that describes the reasoning in natural language and includes all the required features.\n",
      "\n",
      "Each reasoning string should have the following form:\n",
      "- Describe the full task that remains to be completed (but only describe what remains), and place it inside a tag <task>.\n",
      "- Describe the complete high-level plan for completing the remaining task (the list of remaining high-level steps), and place it inside a tag <plan>.\n",
      "- Describe the high-level step that should be executed now (chosen from the list of high-level steps), and place it inside a tag <subtask>.\n",
      "- Describe why the chosen high-level step should be executed now, which features of the current environment influence that decision, and how it should be done. Place it within a tag <subtask_reason>.\n",
      "- Describe the current primitive movement of the arm that needs to be executed, and place it inside a tag <move>.\n",
      "- Describe why the chosen movement should be executed now and which features of the current environment influence that decision. Place it inside a tag <move_reason>.\n",
      "\n",
      "## Task summary\n",
      "\n",
      "Here is a breakdown of what needs to be done:\n",
      "\n",
      "- Describe the task.\n",
      "- Describe the high-level movements that were executed, based on the completed task and the listed features.\n",
      "- Describe the plan for the solution that allowed the robot to complete the task successfully.\n",
      "- For each step on the trajectory, describe the reasoning that leads to determining the correct action. Reasoning can be set to 'same' if it is the same as last step.\n",
      "- At the very end of the response, write a single label FINISHED to indicate that the answer is complete.\n"
     ]
    }
   ],
   "source": [
    "language_instruction = mt[\"language_instruction\"]\n",
    "caption = mt[\"caption\"] if \"caption\" in mt.keys() else None\n",
    "\n",
    "#prompt = build_prompt(ft, language_instruction, caption=caption, list_only_moves=True)\n",
    "# use 'same' to replace repeated output to save tokens\n",
    "prompt = build_prompt2(ft, language_instruction, caption=caption, list_only_moves=True)\n",
    "print(\"metadata:\", mt, \"\\nprompt:\", prompt)\n"
   ]
  },
  {
   "cell_type": "code",
   "execution_count": 27,
   "metadata": {},
   "outputs": [],
   "source": [
    "from call_llm import call_qianwen\n",
    "from utils import parse_trajectory_file, replace_same_content, save_trajectory_file"
   ]
  },
  {
   "cell_type": "code",
   "execution_count": 28,
   "metadata": {},
   "outputs": [
    {
     "data": {
      "text/html": [
       "<pre style=\"white-space:pre;overflow-x:auto;line-height:normal;font-family:Menlo,'DejaVu Sans Mono',consolas,'Courier New',monospace\"><span style=\"color: #7fbfbf; text-decoration-color: #7fbfbf\">10/19 [21:17:00] </span><span style=\"color: #000080; text-decoration-color: #000080\">INFO    </span> | &gt;&gt; HTTP Request: <span style=\"color: #808000; text-decoration-color: #808000; font-weight: bold\">POST</span>                                                   <a href=\"file:///home/lixiang/anaconda3/envs/robot/lib/python3.10/site-packages/httpx/_client.py\" target=\"_blank\"><span style=\"color: #7f7f7f; text-decoration-color: #7f7f7f\">_client.py</span></a><span style=\"color: #7f7f7f; text-decoration-color: #7f7f7f\">:</span><a href=\"file:///home/lixiang/anaconda3/envs/robot/lib/python3.10/site-packages/httpx/_client.py#1038\" target=\"_blank\"><span style=\"color: #7f7f7f; text-decoration-color: #7f7f7f\">1038</span></a>\n",
       "<span style=\"color: #7fbfbf; text-decoration-color: #7fbfbf\">                 </span>         <span style=\"color: #0000ff; text-decoration-color: #0000ff; text-decoration: underline\">https://dashscope.aliyuncs.com/compatible-mode/v1/chat/completions</span>        <span style=\"color: #7f7f7f; text-decoration-color: #7f7f7f\">               </span>\n",
       "<span style=\"color: #7fbfbf; text-decoration-color: #7fbfbf\">                 </span>         <span style=\"color: #008000; text-decoration-color: #008000\">\"HTTP/1.1 200 OK\"</span>                                                         <span style=\"color: #7f7f7f; text-decoration-color: #7f7f7f\">               </span>\n",
       "</pre>\n"
      ],
      "text/plain": [
       "\u001b[2;36m10/19 [21:17:00]\u001b[0m\u001b[2;36m \u001b[0m\u001b[34mINFO    \u001b[0m | >> HTTP Request: \u001b[1;33mPOST\u001b[0m                                                   \u001b]8;id=205133;file:///home/lixiang/anaconda3/envs/robot/lib/python3.10/site-packages/httpx/_client.py\u001b\\\u001b[2m_client.py\u001b[0m\u001b]8;;\u001b\\\u001b[2m:\u001b[0m\u001b]8;id=16404;file:///home/lixiang/anaconda3/envs/robot/lib/python3.10/site-packages/httpx/_client.py#1038\u001b\\\u001b[2m1038\u001b[0m\u001b]8;;\u001b\\\n",
       "\u001b[2;36m                 \u001b[0m         \u001b[4;94mhttps://dashscope.aliyuncs.com/compatible-mode/v1/chat/completions\u001b[0m        \u001b[2m               \u001b[0m\n",
       "\u001b[2;36m                 \u001b[0m         \u001b[32m\"HTTP/1.1 200 OK\"\u001b[0m                                                         \u001b[2m               \u001b[0m\n"
      ]
     },
     "metadata": {},
     "output_type": "display_data"
    },
    {
     "name": "stdout",
     "output_type": "stream",
     "text": [
      "/home/lixiang/codebase/embodied-CoT/scripts/generate_embodied_data/prompt/1.txt\n",
      "prompt file save to: /home/lixiang/codebase/embodied-CoT/scripts/generate_embodied_data/prompt/1.txt\n",
      "/home/lixiang/codebase/embodied-CoT/scripts/generate_embodied_data/prompt_answer/1.txt\n",
      "answer file save to: /home/lixiang/codebase/embodied-CoT/scripts/generate_embodied_data/prompt_answer/1.txt\n"
     ]
    }
   ],
   "source": [
    "call_qianwen(prompt, episode_id)"
   ]
  },
  {
   "cell_type": "code",
   "execution_count": 16,
   "metadata": {},
   "outputs": [],
   "source": [
    "input_file_path = f'/home/lixiang/codebase/embodied-CoT/scripts/generate_embodied_data/prompt_answer/{episode_id}.txt'\n",
    "trajectory_data = parse_trajectory_file(input_file_path)\n",
    "# Replace \"same\" entries\n",
    "updated_trajectory_data = replace_same_content(trajectory_data)\n",
    "# Save the updated data to a new file\n",
    "output_file_path = f'/home/lixiang/codebase/embodied-CoT/scripts/generate_embodied_data/prompt_answer/{episode_id}_new.txt'  # replace with your desired output file path\n",
    "save_trajectory_file(updated_trajectory_data, output_file_path)\n"
   ]
  },
  {
   "cell_type": "code",
   "execution_count": 17,
   "metadata": {},
   "outputs": [
    {
     "name": "stdout",
     "output_type": "stream",
     "text": [
      "0: <task>Pick up the black bowl next to the cookie box and place it on the plate.</task><plan>1. Move to the black bowl, 2. Pick up the black bowl, 3. Move to the plate, 4. Place the black bowl on the plate.</plan><subtask>Move to the black bowl</subtask><subtask_reason>The robot needs to approach the black bowl to be able to pick it up. It starts by stopping to ensure it is ready to move.</subtask_reason><move>stop</move><move_reason>The robot is initially stationary and needs to prepare to start moving.</move_reason>\n",
      "1: <task>Pick up the black bowl next to the cookie box and place it on the plate.</task><plan>1. Move to the black bowl, 2. Pick up the black bowl, 3. Move to the plate, 4. Place the black bowl on the plate.</plan><subtask>Move to the black bowl</subtask><subtask_reason>The robot needs to approach the black bowl to be able to pick it up. It starts by stopping to ensure it is ready to move.</subtask_reason><move>stop</move><move_reason>The robot is initially stationary and needs to prepare to start moving.</move_reason>\n",
      "2: <task>Pick up the black bowl next to the cookie box and place it on the plate.</task><plan>1. Move to the black bowl, 2. Pick up the black bowl, 3. Move to the plate, 4. Place the black bowl on the plate.</plan><subtask>Move to the black bowl</subtask><subtask_reason>The robot needs to approach the black bowl to be able to pick it up. It starts by stopping to ensure it is ready to move.</subtask_reason><move>stop</move><move_reason>The robot is initially stationary and needs to prepare to start moving.</move_reason>\n",
      "3: <task>Pick up the black bowl next to the cookie box and place it on the plate.</task><plan>1. Move to the black bowl, 2. Pick up the black bowl, 3. Move to the plate, 4. Place the black bowl on the plate.</plan><subtask>Move to the black bowl</subtask><subtask_reason>The robot needs to approach the black bowl to be able to pick it up. It starts by stopping to ensure it is ready to move.</subtask_reason><move>stop</move><move_reason>The robot is initially stationary and needs to prepare to start moving.</move_reason>\n",
      "4: <task>Pick up the black bowl next to the cookie box and place it on the plate.</task><plan>1. Move to the black bowl, 2. Pick up the black bowl, 3. Move to the plate, 4. Place the black bowl on the plate.</plan><subtask>Move to the black bowl</subtask><subtask_reason>The robot needs to approach the black bowl to be able to pick it up. It starts by stopping to ensure it is ready to move.</subtask_reason><move>stop</move><move_reason>The robot is initially stationary and needs to prepare to start moving.</move_reason>\n",
      "5: <task>Pick up the black bowl next to the cookie box and place it on the plate.</task><plan>1. Move to the black bowl, 2. Pick up the black bowl, 3. Move to the plate, 4. Place the black bowl on the plate.</plan><subtask>Move to the black bowl</subtask><subtask_reason>The robot needs to approach the black bowl to be able to pick it up. It starts by stopping to ensure it is ready to move.</subtask_reason><move>stop</move><move_reason>The robot is initially stationary and needs to prepare to start moving.</move_reason>\n",
      "6: <task>Pick up the black bowl next to the cookie box and place it on the plate.</task><plan>1. Move to the black bowl, 2. Pick up the black bowl, 3. Move to the plate, 4. Place the black bowl on the plate.</plan><subtask>Move to the black bowl</subtask><subtask_reason>The robot needs to approach the black bowl to be able to pick it up. It starts moving forward towards the bowl.</subtask_reason><move>move forward</move><move_reason>The robot needs to move forward to reach the black bowl.</move_reason>\n",
      "7: <task>Pick up the black bowl next to the cookie box and place it on the plate.</task><plan>1. Move to the black bowl, 2. Pick up the black bowl, 3. Move to the plate, 4. Place the black bowl on the plate.</plan><subtask>Move to the black bowl</subtask><subtask_reason>The robot needs to approach the black bowl to be able to pick it up. It starts moving forward towards the bowl.</subtask_reason><move>move forward</move><move_reason>The robot needs to move forward to reach the black bowl.</move_reason>\n",
      "8: <task>Pick up the black bowl next to the cookie box and place it on the plate.</task><plan>1. Move to the black bowl, 2. Pick up the black bowl, 3. Move to the plate, 4. Place the black bowl on the plate.</plan><subtask>Move to the black bowl</subtask><subtask_reason>The robot needs to approach the black bowl to be able to pick it up. It starts moving forward towards the bowl.</subtask_reason><move>move forward</move><move_reason>The robot needs to move forward to reach the black bowl.</move_reason>\n",
      "9: <task>Pick up the black bowl next to the cookie box and place it on the plate.</task><plan>1. Move to the black bowl, 2. Pick up the black bowl, 3. Move to the plate, 4. Place the black bowl on the plate.</plan><subtask>Move to the black bowl</subtask><subtask_reason>The robot needs to approach the black bowl to be able to pick it up. It starts moving forward towards the bowl.</subtask_reason><move>move forward</move><move_reason>The robot needs to move forward to reach the black bowl.</move_reason>\n",
      "10: <task>Pick up the black bowl next to the cookie box and place it on the plate.</task><plan>1. Move to the black bowl, 2. Pick up the black bowl, 3. Move to the plate, 4. Place the black bowl on the plate.</plan><subtask>Move to the black bowl</subtask><subtask_reason>The robot needs to approach the black bowl to be able to pick it up. It starts moving forward towards the bowl.</subtask_reason><move>move forward</move><move_reason>The robot needs to move forward to reach the black bowl.</move_reason>\n",
      "11: <task>Pick up the black bowl next to the cookie box and place it on the plate.</task><plan>1. Move to the black bowl, 2. Pick up the black bowl, 3. Move to the plate, 4. Place the black bowl on the plate.</plan><subtask>Move to the black bowl</subtask><subtask_reason>The robot needs to approach the black bowl to be able to pick it up. It starts moving forward towards the bowl.</subtask_reason><move>move forward</move><move_reason>The robot needs to move forward to reach the black bowl.</move_reason>\n",
      "12: <task>Pick up the black bowl next to the cookie box and place it on the plate.</task><plan>1. Move to the black bowl, 2. Pick up the black bowl, 3. Move to the plate, 4. Place the black bowl on the plate.</plan><subtask>Move to the black bowl</subtask><subtask_reason>The robot needs to approach the black bowl to be able to pick it up. It starts moving forward towards the bowl.</subtask_reason><move>move forward</move><move_reason>The robot needs to move forward to reach the black bowl.</move_reason>\n",
      "13: <task>Pick up the black bowl next to the cookie box and place it on the plate.</task><plan>1. Move to the black bowl, 2. Pick up the black bowl, 3. Move to the plate, 4. Place the black bowl on the plate.</plan><subtask>Move to the black bowl</subtask><subtask_reason>The robot needs to approach the black bowl to be able to pick it up. It starts moving forward towards the bowl.</subtask_reason><move>move forward</move><move_reason>The robot needs to move forward to reach the black bowl.</move_reason>\n",
      "14: <task>Pick up the black bowl next to the cookie box and place it on the plate.</task><plan>1. Move to the black bowl, 2. Pick up the black bowl, 3. Move to the plate, 4. Place the black bowl on the plate.</plan><subtask>Move to the black bowl</subtask><subtask_reason>The robot needs to approach the black bowl to be able to pick it up. It starts moving forward towards the bowl.</subtask_reason><move>move forward</move><move_reason>The robot needs to move forward to reach the black bowl.</move_reason>\n",
      "15: <task>Pick up the black bowl next to the cookie box and place it on the plate.</task><plan>1. Move to the black bowl, 2. Pick up the black bowl, 3. Move to the plate, 4. Place the black bowl on the plate.</plan><subtask>Move to the black bowl</subtask><subtask_reason>The robot needs to approach the black bowl to be able to pick it up. It starts moving forward towards the bowl.</subtask_reason><move>move forward</move><move_reason>The robot needs to move forward to reach the black bowl.</move_reason>\n",
      "16: <task>Pick up the black bowl next to the cookie box and place it on the plate.</task><plan>1. Move to the black bowl, 2. Pick up the black bowl, 3. Move to the plate, 4. Place the black bowl on the plate.</plan><subtask>Move to the black bowl</subtask><subtask_reason>The robot needs to approach the black bowl to be able to pick it up. It starts moving forward towards the bowl.</subtask_reason><move>move forward</move><move_reason>The robot needs to move forward to reach the black bowl.</move_reason>\n",
      "17: <task>Pick up the black bowl next to the cookie box and place it on the plate.</task><plan>1. Move to the black bowl, 2. Pick up the black bowl, 3. Move to the plate, 4. Place the black bowl on the plate.</plan><subtask>Move to the black bowl</subtask><subtask_reason>The robot needs to approach the black bowl to be able to pick it up. It starts moving forward towards the bowl.</subtask_reason><move>move forward</move><move_reason>The robot needs to move forward to reach the black bowl.</move_reason>\n",
      "18: <task>Pick up the black bowl next to the cookie box and place it on the plate.</task><plan>1. Move to the black bowl, 2. Pick up the black bowl, 3. Move to the plate, 4. Place the black bowl on the plate.</plan><subtask>Move to the black bowl</subtask><subtask_reason>The robot needs to approach the black bowl to be able to pick it up. It starts moving forward towards the bowl.</subtask_reason><move>move forward</move><move_reason>The robot needs to move forward to reach the black bowl.</move_reason>\n",
      "19: <task>Pick up the black bowl next to the cookie box and place it on the plate.</task><plan>1. Move to the black bowl, 2. Pick up the black bowl, 3. Move to the plate, 4. Place the black bowl on the plate.</plan><subtask>Move to the black bowl</subtask><subtask_reason>The robot needs to approach the black bowl to be able to pick it up. It starts moving forward towards the bowl.</subtask_reason><move>move forward</move><move_reason>The robot needs to move forward to reach the black bowl.</move_reason>\n",
      "20: <task>Pick up the black bowl next to the cookie box and place it on the plate.</task><plan>1. Move to the black bowl, 2. Pick up the black bowl, 3. Move to the plate, 4. Place the black bowl on the plate.</plan><subtask>Move to the black bowl</subtask><subtask_reason>The robot needs to approach the black bowl to be able to pick it up. It starts moving forward towards the bowl.</subtask_reason><move>move forward</move><move_reason>The robot needs to move forward to reach the black bowl.</move_reason>\n",
      "21: <task>Pick up the black bowl next to the cookie box and place it on the plate.</task><plan>1. Move to the black bowl, 2. Pick up the black bowl, 3. Move to the plate, 4. Place the black bowl on the plate.</plan><subtask>Move to the black bowl</subtask><subtask_reason>The robot needs to approach the black bowl to be able to pick it up. It starts moving forward towards the bowl.</subtask_reason><move>move forward</move><move_reason>The robot needs to move forward to reach the black bowl.</move_reason>\n",
      "22: <task>Pick up the black bowl next to the cookie box and place it on the plate.</task><plan>1. Move to the black bowl, 2. Pick up the black bowl, 3. Move to the plate, 4. Place the black bowl on the plate.</plan><subtask>Move to the black bowl</subtask><subtask_reason>The robot needs to approach the black bowl to be able to pick it up. It starts moving forward towards the bowl.</subtask_reason><move>move forward</move><move_reason>The robot needs to move forward to reach the black bowl.</move_reason>\n",
      "23: <task>Pick up the black bowl next to the cookie box and place it on the plate.</task><plan>1. Move to the black bowl, 2. Pick up the black bowl, 3. Move to the plate, 4. Place the black bowl on the plate.</plan><subtask>Move to the black bowl</subtask><subtask_reason>The robot needs to approach the black bowl to be able to pick it up. It starts moving forward towards the bowl.</subtask_reason><move>move forward</move><move_reason>The robot needs to move forward to reach the black bowl.</move_reason>\n",
      "24: <task>Pick up the black bowl next to the cookie box and place it on the plate.</task><plan>1. Move to the black bowl, 2. Pick up the black bowl, 3. Move to the plate, 4. Place the black bowl on the plate.</plan><subtask>Move to the black bowl</subtask><subtask_reason>The robot needs to approach the black bowl to be able to pick it up. It starts moving forward towards the bowl.</subtask_reason><move>move forward</move><move_reason>The robot needs to move forward to reach the black bowl.</move_reason>\n",
      "25: <task>Pick up the black bowl next to the cookie box and place it on the plate.</task><plan>1. Move to the black bowl, 2. Pick up the black bowl, 3. Move to the plate, 4. Place the black bowl on the plate.</plan><subtask>Move to the black bowl</subtask><subtask_reason>The robot needs to approach the black bowl to be able to pick it up. It starts moving forward towards the bowl.</subtask_reason><move>move forward</move><move_reason>The robot needs to move forward to reach the black bowl.</move_reason>\n",
      "26: <task>Pick up the black bowl next to the cookie box and place it on the plate.</task><plan>1. Move to the black bowl, 2. Pick up the black bowl, 3. Move to the plate, 4. Place the black bowl on the plate.</plan><subtask>Move to the black bowl</subtask><subtask_reason>The robot needs to approach the black bowl to be able to pick it up. It starts moving forward towards the bowl.</subtask_reason><move>move forward</move><move_reason>The robot needs to move forward to reach the black bowl.</move_reason>\n",
      "27: <task>Pick up the black bowl next to the cookie box and place it on the plate.</task><plan>1. Move to the black bowl, 2. Pick up the black bowl, 3. Move to the plate, 4. Place the black bowl on the plate.</plan><subtask>Stop and prepare to pick up</subtask><subtask_reason>The robot has reached the black bowl and needs to stop to prepare for picking it up.</subtask_reason><move>stop</move><move_reason>The robot needs to stop to ensure it is in the correct position to pick up the bowl.</move_reason>\n",
      "28: <task>Pick up the black bowl next to the cookie box and place it on the plate.</task><plan>1. Move to the black bowl, 2. Pick up the black bowl, 3. Move to the plate, 4. Place the black bowl on the plate.</plan><subtask>Stop and prepare to pick up</subtask><subtask_reason>The robot has reached the black bowl and needs to stop to prepare for picking it up.</subtask_reason><move>stop</move><move_reason>The robot needs to stop to ensure it is in the correct position to pick up the bowl.</move_reason>\n",
      "29: <task>Pick up the black bowl next to the cookie box and place it on the plate.</task><plan>1. Move to the black bowl, 2. Pick up the black bowl, 3. Move to the plate, 4. Place the black bowl on the plate.</plan><subtask>Stop and prepare to pick up</subtask><subtask_reason>The robot has reached the black bowl and needs to stop to prepare for picking it up.</subtask_reason><move>stop</move><move_reason>The robot needs to stop to ensure it is in the correct position to pick up the bowl.</move_reason>\n",
      "30: <task>Pick up the black bowl next to the cookie box and place it on the plate.</task><plan>1. Move to the black bowl, 2. Pick up the black bowl, 3. Move to the plate, 4. Place the black bowl on the plate.</plan><subtask>Stop and prepare to pick up</subtask><subtask_reason>The robot has reached the black bowl and needs to stop to prepare for picking it up.</subtask_reason><move>stop</move><move_reason>The robot needs to stop to ensure it is in the correct position to pick up the bowl.</move_reason>\n",
      "31: <task>Pick up the black bowl next to the cookie box and place it on the plate.</task><plan>1. Move to the black bowl, 2. Pick up the black bowl, 3. Move to the plate, 4. Place the black bowl on the plate.</plan><subtask>Stop and prepare to pick up</subtask><subtask_reason>The robot has reached the black bowl and needs to stop to prepare for picking it up.</subtask_reason><move>stop</move><move_reason>The robot needs to stop to ensure it is in the correct position to pick up the bowl.</move_reason>\n",
      "32: <task>Pick up the black bowl next to the cookie box and place it on the plate.</task><plan>1. Move to the black bowl, 2. Pick up the black bowl, 3. Move to the plate, 4. Place the black bowl on the plate.</plan><subtask>Stop and prepare to pick up</subtask><subtask_reason>The robot has reached the black bowl and needs to stop to prepare for picking it up.</subtask_reason><move>stop</move><move_reason>The robot needs to stop to ensure it is in the correct position to pick up the bowl.</move_reason>\n",
      "33: <task>Pick up the black bowl next to the cookie box and place it on the plate.</task><plan>1. Move to the black bowl, 2. Pick up the black bowl, 3. Move to the plate, 4. Place the black bowl on the plate.</plan><subtask>Stop and prepare to pick up</subtask><subtask_reason>The robot has reached the black bowl and needs to stop to prepare for picking it up.</subtask_reason><move>stop</move><move_reason>The robot needs to stop to ensure it is in the correct position to pick up the bowl.</move_reason>\n",
      "34: <task>Pick up the black bowl next to the cookie box and place it on the plate.</task><plan>1. Move to the black bowl, 2. Pick up the black bowl, 3. Move to the plate, 4. Place the black bowl on the plate.</plan><subtask>Stop and prepare to pick up</subtask><subtask_reason>The robot has reached the black bowl and needs to stop to prepare for picking it up.</subtask_reason><move>stop</move><move_reason>The robot needs to stop to ensure it is in the correct position to pick up the bowl.</move_reason>\n",
      "35: <task>Pick up the black bowl next to the cookie box and place it on the plate.</task><plan>1. Move to the black bowl, 2. Pick up the black bowl, 3. Move to the plate, 4. Place the black bowl on the plate.</plan><subtask>Stop and prepare to pick up</subtask><subtask_reason>The robot has reached the black bowl and needs to stop to prepare for picking it up.</subtask_reason><move>stop</move><move_reason>The robot needs to stop to ensure it is in the correct position to pick up the bowl.</move_reason>\n",
      "36: <task>Pick up the black bowl next to the cookie box and place it on the plate.</task><plan>1. Move to the black bowl, 2. Pick up the black bowl, 3. Move to the plate, 4. Place the black bowl on the plate.</plan><subtask>Stop and prepare to pick up</subtask><subtask_reason>The robot has reached the black bowl and needs to stop to prepare for picking it up.</subtask_reason><move>stop</move><move_reason>The robot needs to stop to ensure it is in the correct position to pick up the bowl.</move_reason>\n",
      "37: <task>Pick up the black bowl next to the cookie box and place it on the plate.</task><plan>1. Move to the black bowl, 2. Pick up the black bowl, 3. Move to the plate, 4. Place the black bowl on the plate.</plan><subtask>Stop and prepare to pick up</subtask><subtask_reason>The robot has reached the black bowl and needs to stop to prepare for picking it up.</subtask_reason><move>stop</move><move_reason>The robot needs to stop to ensure it is in the correct position to pick up the bowl.</move_reason>\n",
      "38: <task>Pick up the black bowl next to the cookie box and place it on the plate.</task><plan>1. Move to the black bowl, 2. Pick up the black bowl, 3. Move to the plate, 4. Place the black bowl on the plate.</plan><subtask>Stop and prepare to pick up</subtask><subtask_reason>The robot has reached the black bowl and needs to stop to prepare for picking it up.</subtask_reason><move>stop</move><move_reason>The robot needs to stop to ensure it is in the correct position to pick up the bowl.</move_reason>\n",
      "39: <task>Pick up the black bowl next to the cookie box and place it on the plate.</task><plan>1. Move to the black bowl, 2. Pick up the black bowl, 3. Move to the plate, 4. Place the black bowl on the plate.</plan><subtask>Stop and prepare to pick up</subtask><subtask_reason>The robot has reached the black bowl and needs to stop to prepare for picking it up.</subtask_reason><move>stop</move><move_reason>The robot needs to stop to ensure it is in the correct position to pick up the bowl.</move_reason>\n",
      "40: <task>Pick up the black bowl next to the cookie box and place it on the plate.</task><plan>1. Move to the black bowl, 2. Pick up the black bowl, 3. Move to the plate, 4. Place the black bowl on the plate.</plan><subtask>Stop and prepare to pick up</subtask><subtask_reason>The robot has reached the black bowl and needs to stop to prepare for picking it up.</subtask_reason><move>stop</move><move_reason>The robot needs to stop to ensure it is in the correct position to pick up the bowl.</move_reason>\n",
      "41: <task>Pick up the black bowl next to the cookie box and place it on the plate.</task><plan>1. Move to the black bowl, 2. Pick up the black bowl, 3. Move to the plate, 4. Place the black bowl on the plate.</plan><subtask>Stop and prepare to pick up</subtask><subtask_reason>The robot has reached the black bowl and needs to stop to prepare for picking it up.</subtask_reason><move>stop</move><move_reason>The robot needs to stop to ensure it is in the correct position to pick up the bowl.</move_reason>\n",
      "42: <task>Pick up the black bowl next to the cookie box and place it on the plate.</task><plan>1. Move to the black bowl, 2. Pick up the black bowl, 3. Move to the plate, 4. Place the black bowl on the plate.</plan><subtask>Stop and prepare to pick up</subtask><subtask_reason>The robot has reached the black bowl and needs to stop to prepare for picking it up.</subtask_reason><move>stop</move><move_reason>The robot needs to stop to ensure it is in the correct position to pick up the bowl.</move_reason>\n",
      "43: <task>Pick up the black bowl next to the cookie box and place it on the plate.</task><plan>1. Move to the black bowl, 2. Pick up the black bowl, 3. Move to the plate, 4. Place the black bowl on the plate.</plan><subtask>Stop and prepare to pick up</subtask><subtask_reason>The robot has reached the black bowl and needs to stop to prepare for picking it up.</subtask_reason><move>stop</move><move_reason>The robot needs to stop to ensure it is in the correct position to pick up the bowl.</move_reason>\n",
      "44: <task>Pick up the black bowl next to the cookie box and place it on the plate.</task><plan>1. Move to the black bowl, 2. Pick up the black bowl, 3. Move to the plate, 4. Place the black bowl on the plate.</plan><subtask>Stop and prepare to pick up</subtask><subtask_reason>The robot has reached the black bowl and needs to stop to prepare for picking it up.</subtask_reason><move>stop</move><move_reason>The robot needs to stop to ensure it is in the correct position to pick up the bowl.</move_reason>\n",
      "45: <task>Pick up the black bowl next to the cookie box and place it on the plate.</task><plan>1. Move to the black bowl, 2. Pick up the black bowl, 3. Move to the plate, 4. Place the black bowl on the plate.</plan><subtask>Stop and prepare to pick up</subtask><subtask_reason>The robot has reached the black bowl and needs to stop to prepare for picking it up.</subtask_reason><move>stop</move><move_reason>The robot needs to stop to ensure it is in the correct position to pick up the bowl.</move_reason>\n",
      "46: <task>Pick up the black bowl next to the cookie box and place it on the plate.</task><plan>1. Move to the black bowl, 2. Pick up the black bowl, 3. Move to the plate, 4. Place the black bowl on the plate.</plan><subtask>Stop and prepare to pick up</subtask><subtask_reason>The robot has reached the black bowl and needs to stop to prepare for picking it up.</subtask_reason><move>stop</move><move_reason>The robot needs to stop to ensure it is in the correct position to pick up the bowl.</move_reason>\n",
      "47: <task>Pick up the black bowl next to the cookie box and place it on the plate.</task><plan>1. Move to the black bowl, 2. Pick up the black bowl, 3. Move to the plate, 4. Place the black bowl on the plate.</plan><subtask>Stop and prepare to pick up</subtask><subtask_reason>The robot has reached the black bowl and needs to stop to prepare for picking it up.</subtask_reason><move>stop</move><move_reason>The robot needs to stop to ensure it is in the correct position to pick up the bowl.</move_reason>\n",
      "48: <task>Pick up the black bowl next to the cookie box and place it on the plate.</task><plan>1. Move to the black bowl, 2. Pick up the black bowl, 3. Move to the plate, 4. Place the black bowl on the plate.</plan><subtask>Stop and prepare to pick up</subtask><subtask_reason>The robot has reached the black bowl and needs to stop to prepare for picking it up.</subtask_reason><move>stop</move><move_reason>The robot needs to stop to ensure it is in the correct position to pick up the bowl.</move_reason>\n",
      "49: <task>Pick up the black bowl next to the cookie box and place it on the plate.</task><plan>1. Move to the black bowl, 2. Pick up the black bowl, 3. Move to the plate, 4. Place the black bowl on the plate.</plan><subtask>Stop and prepare to pick up</subtask><subtask_reason>The robot has reached the black bowl and needs to stop to prepare for picking it up.</subtask_reason><move>stop</move><move_reason>The robot needs to stop to ensure it is in the correct position to pick up the bowl.</move_reason>\n",
      "50: <task>Pick up the black bowl next to the cookie box and place it on the plate.</task><plan>1. Move to the black bowl, 2. Pick up the black bowl, 3. Move to the plate, 4. Place the black bowl on the plate.</plan><subtask>Stop and prepare to pick up</subtask><subtask_reason>The robot has reached the black bowl and needs to stop to prepare for picking it up.</subtask_reason><move>stop</move><move_reason>The robot needs to stop to ensure it is in the correct position to pick up the bowl.</move_reason>\n",
      "51: <task>Pick up the black bowl next to the cookie box and place it on the plate.</task><plan>1. Move to the black bowl, 2. Pick up the black bowl, 3. Move to the plate, 4. Place the black bowl on the plate.</plan><subtask>Stop and prepare to pick up</subtask><subtask_reason>The robot has reached the black bowl and needs to stop to prepare for picking it up.</subtask_reason><move>stop</move><move_reason>The robot needs to stop to ensure it is in the correct position to pick up the bowl.</move_reason>\n",
      "52: <task>Pick up the black bowl next to the cookie box and place it on the plate.</task><plan>1. Move to the black bowl, 2. Pick up the black bowl, 3. Move to the plate, 4. Place the black bowl on the plate.</plan><subtask>Stop and prepare to pick up</subtask><subtask_reason>The robot has reached the black bowl and needs to stop to prepare for picking it up.</subtask_reason><move>stop</move><move_reason>The robot needs to stop to ensure it is in the correct position to pick up the bowl.</move_reason>\n",
      "53: <task>Pick up the black bowl next to the cookie box and place it on the plate.</task><plan>1. Move to the black bowl, 2. Pick up the black bowl, 3. Move to the plate, 4. Place the black bowl on the plate.</plan><subtask>Stop and prepare to pick up</subtask><subtask_reason>The robot has reached the black bowl and needs to stop to prepare for picking it up.</subtask_reason><move>stop</move><move_reason>The robot needs to stop to ensure it is in the correct position to pick up the bowl.</move_reason>\n",
      "54: <task>Pick up the black bowl next to the cookie box and place it on the plate.</task><plan>1. Move to the black bowl, 2. Pick up the black bowl, 3. Move to the plate, 4. Place the black bowl on the plate.</plan><subtask>Stop and prepare to pick up</subtask><subtask_reason>The robot has reached the black bowl and needs to stop to prepare for picking it up.</subtask_reason><move>stop</move><move_reason>The robot needs to stop to ensure it is in the correct position to pick up the bowl.</move_reason>\n",
      "55: <task>Pick up the black bowl next to the cookie box and place it on the plate.</task><plan>1. Move to the black bowl, 2. Pick up the black bowl, 3. Move to the plate, 4. Place the black bowl on the plate.</plan><subtask>Stop and prepare to pick up</subtask><subtask_reason>The robot has reached the black bowl and needs to stop to prepare for picking it up.</subtask_reason><move>stop</move><move_reason>The robot needs to stop to ensure it is in the correct position to pick up the bowl.</move_reason>\n",
      "56: <task>Pick up the black bowl next to the cookie box and place it on the plate.</task><plan>1. Move to the black bowl, 2. Pick up the black bowl, 3. Move to the plate, 4. Place the black bowl on the plate.</plan><subtask>Stop and prepare to pick up</subtask><subtask_reason>The robot has reached the black bowl and needs to stop to prepare for picking it up.</subtask_reason><move>stop</move><move_reason>The robot needs to stop to ensure it is in the correct position to pick up the bowl.</move_reason>\n",
      "57: <task>Pick up the black bowl next to the cookie box and place it on the plate.</task><plan>1. Move to the black bowl, 2. Pick up the black bowl, 3. Move to the plate, 4. Place the black bowl on the plate.</plan><subtask>Stop and prepare to pick up</subtask><subtask_reason>The robot has reached the black bowl and needs to stop to prepare for picking it up.</subtask_reason><move>stop</move><move_reason>The robot needs to stop to ensure it is in the correct position to pick up the bowl.</move_reason>\n",
      "58: <task>Pick up the black bowl next to the cookie box and place it on the plate.</task><plan>1. Move to the black bowl, 2. Pick up the black bowl, 3. Move to the plate, 4. Place the black bowl on the plate.</plan><subtask>Stop and prepare to pick up</subtask><subtask_reason>The robot has reached the black bowl and needs to stop to prepare for picking it up.</subtask_reason><move>stop</move><move_reason>The robot needs to stop to ensure it is in the correct position to pick up the bowl.</move_reason>\n",
      "59: <task>Pick up the black bowl next to the cookie box and place it on the plate.</task><plan>1. Move to the black bowl, 2. Pick up the black bowl, 3. Move to the plate, 4. Place the black bowl on the plate.</plan><subtask>Stop and prepare to pick up</subtask><subtask_reason>The robot has reached the black bowl and needs to stop to prepare for picking it up.</subtask_reason><move>stop</move><move_reason>The robot needs to stop to ensure it is in the correct position to pick up the bowl.</move_reason>\n",
      "60: <task>Pick up the black bowl next to the cookie box and place it on the plate.</task><plan>1. Move to the black bowl, 2. Pick up the black bowl, 3. Move to the plate, 4. Place the black bowl on the plate.</plan><subtask>Stop and prepare to pick up</subtask><subtask_reason>The robot has reached the black bowl and needs to stop to prepare for picking it up.</subtask_reason><move>stop</move><move_reason>The robot needs to stop to ensure it is in the correct position to pick up the bowl.</move_reason>\n",
      "61: <task>Pick up the black bowl next to the cookie box and place it on the plate.</task><plan>1. Move to the black bowl, 2. Pick up the black bowl, 3. Move to the plate, 4. Place the black bowl on the plate.</plan><subtask>Stop and prepare to pick up</subtask><subtask_reason>The robot has reached the black bowl and needs to stop to prepare for picking it up.</subtask_reason><move>stop</move><move_reason>The robot needs to stop to ensure it is in the correct position to pick up the bowl.</move_reason>\n",
      "62: <task>Pick up the black bowl next to the cookie box and place it on the plate.</task><plan>1. Move to the black bowl, 2. Pick up the black bowl, 3. Move to the plate, 4. Place the black bowl on the plate.</plan><subtask>Move up to grasp the bowl</subtask><subtask_reason>The robot needs to move its arm up to the appropriate height to grasp the bowl.</subtask_reason><move>move up</move><move_reason>The robot needs to move up to align its gripper with the bowl.</move_reason>\n",
      "63: <task>Pick up the black bowl next to the cookie box and place it on the plate.</task><plan>1. Move to the black bowl, 2. Pick up the black bowl, 3. Move to the plate, 4. Place the black bowl on the plate.</plan><subtask>Move up to grasp the bowl</subtask><subtask_reason>The robot needs to move its arm up to the appropriate height to grasp the bowl.</subtask_reason><move>move up</move><move_reason>The robot needs to move up to align its gripper with the bowl.</move_reason>\n",
      "64: <task>Pick up the black bowl next to the cookie box and place it on the plate.</task><plan>1. Move to the black bowl, 2. Pick up the black bowl, 3. Move to the plate, 4. Place the black bowl on the plate.</plan><subtask>Move up to grasp the bowl</subtask><subtask_reason>The robot needs to move its arm up to the appropriate height to grasp the bowl.</subtask_reason><move>move up</move><move_reason>The robot needs to move up to align its gripper with the bowl.</move_reason>\n",
      "65: <task>Pick up the black bowl next to the cookie box and place it on the plate.</task><plan>1. Move to the black bowl, 2. Pick up the black bowl, 3. Move to the plate, 4. Place the black bowl on the plate.</plan><subtask>Move up to grasp the bowl</subtask><subtask_reason>The robot needs to move its arm up to the appropriate height to grasp the bowl.</subtask_reason><move>move up</move><move_reason>The robot needs to move up to align its gripper with the bowl.</move_reason>\n",
      "66: <task>Pick up the black bowl next to the cookie box and place it on the plate.</task><plan>1. Move to the black bowl, 2. Pick up the black bowl, 3. Move to the plate, 4. Place the black bowl on the plate.</plan><subtask>Move up to grasp the bowl</subtask><subtask_reason>The robot needs to move its arm up to the appropriate height to grasp the bowl.</subtask_reason><move>move up</move><move_reason>The robot needs to move up to align its gripper with the bowl.</move_reason>\n",
      "67: <task>Pick up the black bowl next to the cookie box and place it on the plate.</task><plan>1. Move to the black bowl, 2. Pick up the black bowl, 3. Move to the plate, 4. Place the black bowl on the plate.</plan><subtask>Move left to align with the bowl</subtask><subtask_reason>The robot needs to move left to align its gripper with the bowl.</subtask_reason><move>stop</move><move_reason>The robot needs to stop to ensure it is in the correct position before moving left.</move_reason>\n",
      "68: <task>Pick up the black bowl next to the cookie box and place it on the plate.</task><plan>1. Move to the black bowl, 2. Pick up the black bowl, 3. Move to the plate, 4. Place the black bowl on the plate.</plan><subtask>Move left to align with the bowl</subtask><subtask_reason>The robot needs to move left to align its gripper with the bowl.</subtask_reason><move>stop</move><move_reason>The robot needs to stop to ensure it is in the correct position before moving left.</move_reason>\n",
      "69: <task>Pick up the black bowl next to the cookie box and place it on the plate.</task><plan>1. Move to the black bowl, 2. Pick up the black bowl, 3. Move to the plate, 4. Place the black bowl on the plate.</plan><subtask>Move left to align with the bowl</subtask><subtask_reason>The robot needs to move left to align its gripper with the bowl.</subtask_reason><move>stop</move><move_reason>The robot needs to stop to ensure it is in the correct position before moving left.</move_reason>\n",
      "70: <task>Pick up the black bowl next to the cookie box and place it on the plate.</task><plan>1. Move to the black bowl, 2. Pick up the black bowl, 3. Move to the plate, 4. Place the black bowl on the plate.</plan><subtask>Move left to align with the bowl</subtask><subtask_reason>The robot needs to move left to align its gripper with the bowl.</subtask_reason><move>move left</move><move_reason>The robot needs to move left to align its gripper with the bowl.</move_reason>\n",
      "71: <task>Pick up the black bowl next to the cookie box and place it on the plate.</task><plan>1. Move to the black bowl, 2. Pick up the black bowl, 3. Move to the plate, 4. Place the black bowl on the plate.</plan><subtask>Move left to align with the bowl</subtask><subtask_reason>The robot needs to move left to align its gripper with the bowl.</subtask_reason><move>move left</move><move_reason>The robot needs to move left to align its gripper with the bowl.</move_reason>\n",
      "72: <task>Pick up the black bowl next to the cookie box and place it on the plate.</task><plan>1. Move to the black bowl, 2. Pick up the black bowl, 3. Move to the plate, 4. Place the black bowl on the plate.</plan><subtask>Move left to align with the bowl</subtask><subtask_reason>The robot needs to move left to align its gripper with the bowl.</subtask_reason><move>move left</move><move_reason>The robot needs to move left to align its gripper with the bowl.</move_reason>\n",
      "73: <task>Pick up the black bowl next to the cookie box and place it on the plate.</task><plan>1. Move to the black bowl, 2. Pick up the black bowl, 3. Move to the plate, 4. Place the black bowl on the plate.</plan><subtask>Move left to align with the bowl</subtask><subtask_reason>The robot needs to move left to align its gripper with the bowl.</subtask_reason><move>move left</move><move_reason>The robot needs to move left to align its gripper with the bowl.</move_reason>\n",
      "74: <task>Pick up the black bowl next to the cookie box and place it on the plate.</task><plan>1. Move to the black bowl, 2. Pick up the black bowl, 3. Move to the plate, 4. Place the black bowl on the plate.</plan><subtask>Move left to align with the bowl</subtask><subtask_reason>The robot needs to move left to align its gripper with the bowl.</subtask_reason><move>move left</move><move_reason>The robot needs to move left to align its gripper with the bowl.</move_reason>\n",
      "75: <task>Pick up the black bowl next to the cookie box and place it on the plate.</task><plan>1. Move to the black bowl, 2. Pick up the black bowl, 3. Move to the plate, 4. Place the black bowl on the plate.</plan><subtask>Move left to align with the bowl</subtask><subtask_reason>The robot needs to move left to align its gripper with the bowl.</subtask_reason><move>move left</move><move_reason>The robot needs to move left to align its gripper with the bowl.</move_reason>\n",
      "76: <task>Pick up the black bowl next to the cookie box and place it on the plate.</task><plan>1. Move to the black bowl, 2. Pick up the black bowl, 3. Move to the plate, 4. Place the black bowl on the plate.</plan><subtask>Move left to align with the bowl</subtask><subtask_reason>The robot needs to move left to align its gripper with the bowl.</subtask_reason><move>move left</move><move_reason>The robot needs to move left to align its gripper with the bowl.</move_reason>\n",
      "77: <task>Pick up the black bowl next to the cookie box and place it on the plate.</task><plan>1. Move to the black bowl, 2. Pick up the black bowl, 3. Move to the plate, 4. Place the black bowl on the plate.</plan><subtask>Move left to align with the bowl</subtask><subtask_reason>The robot needs to move left to align its gripper with the bowl.</subtask_reason><move>move left</move><move_reason>The robot needs to move left to align its gripper with the bowl.</move_reason>\n",
      "78: <task>Pick up the black bowl next to the cookie box and place it on the plate.</task><plan>1. Move to the black bowl, 2. Pick up the black bowl, 3. Move to the plate, 4. Place the black bowl on the plate.</plan><subtask>Move left to align with the bowl</subtask><subtask_reason>The robot needs to move left to align its gripper with the bowl.</subtask_reason><move>move left</move><move_reason>The robot needs to move left to align its gripper with the bowl.</move_reason>\n",
      "79: <task>Pick up the black bowl next to the cookie box and place it on the plate.</task><plan>1. Move to the black bowl, 2. Pick up the black bowl, 3. Move to the plate, 4. Place the black bowl on the plate.</plan><subtask>Move left to align with the bowl</subtask><subtask_reason>The robot needs to move left to align its gripper with the bowl.</subtask_reason><move>move left</move><move_reason>The robot needs to move left to align its gripper with the bowl.</move_reason>\n",
      "80: <task>Pick up the black bowl next to the cookie box and place it on the plate.</task><plan>1. Move to the black bowl, 2. Pick up the black bowl, 3. Move to the plate, 4. Place the black bowl on the plate.</plan><subtask>Move left to align with the bowl</subtask><subtask_reason>The robot needs to move left to align its gripper with the bowl.</subtask_reason><move>move left</move><move_reason>The robot needs to move left to align its gripper with the bowl.</move_reason>\n",
      "81: <task>Pick up the black bowl next to the cookie box and place it on the plate.</task><plan>1. Move to the black bowl, 2. Pick up the black bowl, 3. Move to the plate, 4. Place the black bowl on the plate.</plan><subtask>Move left to align with the bowl</subtask><subtask_reason>The robot needs to move left to align its gripper with the bowl.</subtask_reason><move>move left</move><move_reason>The robot needs to move left to align its gripper with the bowl.</move_reason>\n",
      "82: <task>Pick up the black bowl next to the cookie box and place it on the plate.</task><plan>1. Move to the black bowl, 2. Pick up the black bowl, 3. Move to the plate, 4. Place the black bowl on the plate.</plan><subtask>Move left to align with the bowl</subtask><subtask_reason>The robot needs to move left to align its gripper with the bowl.</subtask_reason><move>move left</move><move_reason>The robot needs to move left to align its gripper with the bowl.</move_reason>\n",
      "83: <task>Pick up the black bowl next to the cookie box and place it on the plate.</task><plan>1. Move to the black bowl, 2. Pick up the black bowl, 3. Move to the plate, 4. Place the black bowl on the plate.</plan><subtask>Move left to align with the bowl</subtask><subtask_reason>The robot needs to move left to align its gripper with the bowl.</subtask_reason><move>move left</move><move_reason>The robot needs to move left to align its gripper with the bowl.</move_reason>\n",
      "84: <task>Pick up the black bowl next to the cookie box and place it on the plate.</task><plan>1. Move to the black bowl, 2. Pick up the black bowl, 3. Move to the plate, 4. Place the black bowl on the plate.</plan><subtask>Move left to align with the bowl</subtask><subtask_reason>The robot needs to move left to align its gripper with the bowl.</subtask_reason><move>move left</move><move_reason>The robot needs to move left to align its gripper with the bowl.</move_reason>\n",
      "85: <task>Pick up the black bowl next to the cookie box and place it on the plate.</task><plan>1. Move to the black bowl, 2. Pick up the black bowl, 3. Move to the plate, 4. Place the black bowl on the plate.</plan><subtask>Stop and pick up the bowl</subtask><subtask_reason>The robot needs to stop and pick up the bowl after aligning with it.</subtask_reason><move>stop</move><move_reason>The robot needs to stop to ensure it is in the correct position to pick up the bowl.</move_reason>\n",
      "86: <task>Pick up the black bowl next to the cookie box and place it on the plate.</task><plan>1. Move to the black bowl, 2. Pick up the black bowl, 3. Move to the plate, 4. Place the black bowl on the plate.</plan><subtask>Stop and pick up the bowl</subtask><subtask_reason>The robot needs to stop and pick up the bowl after aligning with it.</subtask_reason><move>stop</move><move_reason>The robot needs to stop to ensure it is in the correct position to pick up the bowl.</move_reason>\n",
      "87: <task>Pick up the black bowl next to the cookie box and place it on the plate.</task><plan>1. Move to the black bowl, 2. Pick up the black bowl, 3. Move to the plate, 4. Place the black bowl on the plate.</plan><subtask>Stop and pick up the bowl</subtask><subtask_reason>The robot needs to stop and pick up the bowl after aligning with it.</subtask_reason><move>stop</move><move_reason>The robot needs to stop to ensure it is in the correct position to pick up the bowl.</move_reason>\n",
      "88: <task>Pick up the black bowl next to the cookie box and place it on the plate.</task><plan>1. Move to the black bowl, 2. Pick up the black bowl, 3. Move to the plate, 4. Place the black bowl on the plate.</plan><subtask>Stop and pick up the bowl</subtask><subtask_reason>The robot needs to stop and pick up the bowl after aligning with it.</subtask_reason><move>stop</move><move_reason>The robot needs to stop to ensure it is in the correct position to pick up the bowl.</move_reason>\n",
      "89: <task>Pick up the black bowl next to the cookie box and place it on the plate.</task><plan>1. Move to the black bowl, 2. Pick up the black bowl, 3. Move to the plate, 4. Place the black bowl on the plate.</plan><subtask>Stop and pick up the bowl</subtask><subtask_reason>The robot needs to stop and pick up the bowl after aligning with it.</subtask_reason><move>stop</move><move_reason>The robot needs to stop to ensure it is in the correct position to pick up the bowl.</move_reason>\n",
      "90: <task>Pick up the black bowl next to the cookie box and place it on the plate.</task><plan>1. Move to the black bowl, 2. Pick up the black bowl, 3. Move to the plate, 4. Place the black bowl on the plate.</plan><subtask>Stop and pick up the bowl</subtask><subtask_reason>The robot needs to stop and pick up the bowl after aligning with it.</subtask_reason><move>stop</move><move_reason>The robot needs to stop to ensure it is in the correct position to pick up the bowl.</move_reason>\n",
      "91: <task>Pick up the black bowl next to the cookie box and place it on the plate.</task><plan>1. Move to the black bowl, 2. Pick up the black bowl, 3. Move to the plate, 4. Place the black bowl on the plate.</plan><subtask>Stop and pick up the bowl</subtask><subtask_reason>The robot needs to stop and pick up the bowl after aligning with it.</subtask_reason><move>stop</move><move_reason>The robot needs to stop to ensure it is in the correct position to pick up the bowl.</move_reason>\n",
      "92: <task>Pick up the black bowl next to the cookie box and place it on the plate.</task><plan>1. Move to the black bowl, 2. Pick up the black bowl, 3. Move to the plate, 4. Place the black bowl on the plate.</plan><subtask>Stop and pick up the bowl</subtask><subtask_reason>The robot needs to stop and pick up the bowl after aligning with it.</subtask_reason><move>stop</move><move_reason>The robot needs to stop to ensure it is in the correct position to pick up the bowl.</move_reason>\n",
      "93: <task>Pick up the black bowl next to the cookie box and place it on the plate.</task><plan>1. Move to the black bowl, 2. Pick up the black bowl, 3. Move to the plate, 4. Place the black bowl on the plate.</plan><subtask>Stop and pick up the bowl</subtask><subtask_reason>The robot needs to stop and pick up the bowl after aligning with it.</subtask_reason><move>stop</move><move_reason>The robot needs to stop to ensure it is in the correct position to pick up the bowl.</move_reason>\n",
      "94: <task>Pick up the black bowl next to the cookie box and place it on the plate.</task><plan>1. Move to the black bowl, 2. Pick up the black bowl, 3. Move to the plate, 4. Place the black bowl on the plate.</plan><subtask>Stop and pick up the bowl</subtask><subtask_reason>The robot needs to stop and pick up the bowl after aligning with it.</subtask_reason><move>stop</move><move_reason>The robot needs to stop to ensure it is in the correct position to pick up the bowl.</move_reason>\n",
      "95: <task>Pick up the black bowl next to the cookie box and place it on the plate.</task><plan>1. Move to the black bowl, 2. Pick up the black bowl, 3. Move to the plate, 4. Place the black bowl on the plate.</plan><subtask>Stop and pick up the bowl</subtask><subtask_reason>The robot needs to stop and pick up the bowl after aligning with it.</subtask_reason><move>stop</move><move_reason>The robot needs to stop to ensure it is in the correct position to pick up the bowl.</move_reason>\n",
      "96: <task>Pick up the black bowl next to the cookie box and place it on the plate.</task><plan>1. Move to the black bowl, 2. Pick up the black bowl, 3. Move to the plate, 4. Place the black bowl on the plate.</plan><subtask>Stop and pick up the bowl</subtask><subtask_reason>The robot needs to stop and pick up the bowl after aligning with it.</subtask_reason><move>stop</move><move_reason>The robot needs to stop to ensure it is in the correct position to pick up the bowl.</move_reason>\n",
      "97: <task>Pick up the black bowl next to the cookie box and place it on the plate.</task><plan>1. Move to the black bowl, 2. Pick up the black bowl, 3. Move to the plate, 4. Place the black bowl on the plate.</plan><subtask>Stop and pick up the bowl</subtask><subtask_reason>The robot needs to stop and pick up the bowl after aligning with it.</subtask_reason><move>stop</move><move_reason>The robot needs to stop to ensure it is in the correct position to pick up the bowl.</move_reason>\n",
      "98: <task>Pick up the black bowl next to the cookie box and place it on the plate.</task><plan>1. Move to the black bowl, 2. Pick up the black bowl, 3. Move to the plate, 4. Place the black bowl on the plate.</plan><subtask>Stop and pick up the bowl</subtask><subtask_reason>The robot needs to stop and pick up the bowl after aligning with it.</subtask_reason><move>stop</move><move_reason>The robot needs to stop to ensure it is in the correct position to pick up the bowl.</move_reason>\n",
      "99: <task>Pick up the black bowl next to the cookie box and place it on the plate.</task><plan>1. Move to the black bowl, 2. Pick up the black bowl, 3. Move to the plate, 4. Place the black bowl on the plate.</plan><subtask>Stop and pick up the bowl</subtask><subtask_reason>The robot needs to stop and pick up the bowl after aligning with it.</subtask_reason><move>stop</move><move_reason>The robot needs to stop to ensure it is in the correct position to pick up the bowl.</move_reason>\n",
      "100: <task>Pick up the black bowl next to the cookie box and place it on the plate.</task><plan>1. Move to the black bowl, 2. Pick up the black bowl, 3. Move to the plate, 4. Place the black bowl on the plate.</plan><subtask>Stop and pick up the bowl</subtask><subtask_reason>The robot needs to stop and pick up the bowl after aligning with it.</subtask_reason><move>stop</move><move_reason>The robot needs to stop to ensure it is in the correct position to pick up the bowl.</move_reason>\n",
      "101: <task>Pick up the black bowl next to the cookie box and place it on the plate.</task><plan>1. Move to the black bowl, 2. Pick up the black bowl, 3. Move to the plate, 4. Place the black bowl on the plate.</plan><subtask>Stop and pick up the bowl</subtask><subtask_reason>The robot needs to stop and pick up the bowl after aligning with it.</subtask_reason><move>stop</move><move_reason>The robot needs to stop to ensure it is in the correct position to pick up the bowl.</move_reason>\n",
      "102: <task>Pick up the black bowl next to the cookie box and place it on the plate.</task><plan>1. Move to the black bowl, 2. Pick up the black bowl, 3. Move to the plate, 4. Place the black bowl on the plate.</plan><subtask>Stop and pick up the bowl</subtask><subtask_reason>The robot needs to stop and pick up the bowl after aligning with it.</subtask_reason><move>stop</move><move_reason>The robot needs to stop to ensure it is in the correct position to pick up the bowl.</move_reason>\n",
      "103: <task>Pick up the black bowl next to the cookie box and place it on the plate.</task><plan>1. Move to the black bowl, 2. Pick up the black bowl, 3. Move to the plate, 4. Place the black bowl on the plate.</plan><subtask>Stop and pick up the bowl</subtask><subtask_reason>The robot needs to stop and pick up the bowl after aligning with it.</subtask_reason><move>stop</move><move_reason>The robot needs to stop to ensure it is in the correct position to pick up the bowl.</move_reason>\n",
      "104: <task>Pick up the black bowl next to the cookie box and place it on the plate.</task><plan>1. Move to the black bowl, 2. Pick up the black bowl, 3. Move to the plate, 4. Place the black bowl on the plate.</plan><subtask>Stop and pick up the bowl</subtask><subtask_reason>The robot needs to stop and pick up the bowl after aligning with it.</subtask_reason><move>stop</move><move_reason>The robot needs to stop to ensure it is in the correct position to pick up the bowl.</move_reason>\n",
      "105: <task>Pick up the black bowl next to the cookie box and place it on the plate.</task><plan>1. Move to the black bowl, 2. Pick up the black bowl, 3. Move to the plate, 4. Place the black bowl on the plate.</plan><subtask>Stop and pick up the bowl</subtask><subtask_reason>The robot needs to stop and pick up the bowl after aligning with it.</subtask_reason><move>stop</move><move_reason>The robot needs to stop to ensure it is in the correct position to pick up the bowl.</move_reason>\n",
      "106: <task>Pick up the black bowl next to the cookie box and place it on the plate.</task><plan>1. Move to the black bowl, 2. Pick up the black bowl, 3. Move to the plate, 4. Place the black bowl on the plate.</plan><subtask>Stop and pick up the bowl</subtask><subtask_reason>The robot needs to stop and pick up the bowl after aligning with it.</subtask_reason><move>stop</move><move_reason>The robot needs to stop to ensure it is in the correct position to pick up the bowl.</move_reason>\n",
      "107: <task>Pick up the black bowl next to the cookie box and place it on the plate.</task><plan>1. Move to the black bowl, 2. Pick up the black bowl, 3. Move to the plate, 4. Place the black bowl on the plate.</plan><subtask>Stop and pick up the bowl</subtask><subtask_reason>The robot needs to stop and pick up the bowl after aligning with it.</subtask_reason><move>stop</move><move_reason>The robot needs to stop to ensure it is in the correct position to pick up the bowl.</move_reason>\n",
      "108: <task>Pick up the black bowl next to the cookie box and place it on the plate.</task><plan>1. Move to the black bowl, 2. Pick up the black bowl, 3. Move to the plate, 4. Place the black bowl on the plate.</plan><subtask>Stop and pick up the bowl</subtask><subtask_reason>The robot needs to stop and pick up the bowl after aligning with it.</subtask_reason><move>stop</move><move_reason>The robot needs to stop to ensure it is in the correct position to pick up the bowl.</move_reason>\n",
      "109: <task>Pick up the black bowl next to the cookie box and place it on the plate.</task><plan>1. Move to the black bowl, 2. Pick up the black bowl, 3. Move to the plate, 4. Place the black bowl on the plate.</plan><subtask>Stop and pick up the bowl</subtask><subtask_reason>The robot needs to stop and pick up the bowl after aligning with it.</subtask_reason><move>stop</move><move_reason>The robot needs to stop to ensure it is in the correct position to pick up the bowl.</move_reason>\n",
      "FINISHED\n",
      "\n"
     ]
    }
   ],
   "source": [
    "with open(output_file_path, 'r') as f:\n",
    "    reasoning_output = f.read()\n",
    "print(reasoning_output)"
   ]
  },
  {
   "cell_type": "code",
   "execution_count": 18,
   "metadata": {},
   "outputs": [],
   "source": [
    "import re\n",
    "def find_task_occurrences(input_string, tags):\n",
    "    pattern = r\"(\\d+):\"\n",
    "    for tag in tags:\n",
    "        pattern = pattern + r\"\\s*<\" + tag + r\">([^<]*)<\\/\" + tag + \">\"\n",
    "\n",
    "    matches = re.findall(pattern, input_string)\n",
    "    return matches\n",
    "\n",
    "tags=(\"task\", \"plan\", \"subtask\", \"subtask_reason\", \"move\", \"move_reason\")\n",
    "\n",
    "trajectory = dict()\n",
    "\n",
    "matches = find_task_occurrences(reasoning_output, tags)\n",
    "\n",
    "for match in matches:\n",
    "    trajectory[int(match[0])] = dict(zip(tags, match[1:]))"
   ]
  },
  {
   "cell_type": "code",
   "execution_count": 19,
   "metadata": {},
   "outputs": [
    {
     "name": "stdout",
     "output_type": "stream",
     "text": [
      "len(trajectory) 110 trajectory[0] {'task': 'Pick up the black bowl next to the cookie box and place it on the plate.', 'plan': '1. Move to the black bowl, 2. Pick up the black bowl, 3. Move to the plate, 4. Place the black bowl on the plate.', 'subtask': 'Move to the black bowl', 'subtask_reason': 'The robot needs to approach the black bowl to be able to pick it up. It starts by stopping to ensure it is ready to move.', 'move': 'stop', 'move_reason': 'The robot is initially stationary and needs to prepare to start moving.'}\n"
     ]
    }
   ],
   "source": [
    "print('len(trajectory)', len(trajectory), 'trajectory[0]', trajectory[0])"
   ]
  },
  {
   "cell_type": "code",
   "execution_count": 20,
   "metadata": {},
   "outputs": [],
   "source": [
    "reasoning = trajectory\n",
    "entry = {\"reasoning\": reasoning, \"features\": ft, \"metadata\": mt}"
   ]
  },
  {
   "cell_type": "markdown",
   "metadata": {},
   "source": []
  },
  {
   "cell_type": "code",
   "execution_count": 1,
   "metadata": {},
   "outputs": [],
   "source": [
    "import json\n",
    "reasoning_dataset_path = \"/home/lixiang/codebase/embodied-CoT/datasets/embodied_features_bridge/embodied_features_bridge.json\"    \n",
    "with open(reasoning_dataset_path, \"r\") as f:\n",
    "    reasoning_dataset = json.load(f)"
   ]
  },
  {
   "cell_type": "code",
   "execution_count": 3,
   "metadata": {},
   "outputs": [
    {
     "data": {
      "text/plain": [
       "3200"
      ]
     },
     "execution_count": 3,
     "metadata": {},
     "output_type": "execute_result"
    }
   ],
   "source": [
    "len(reasoning_dataset.keys())"
   ]
  },
  {
   "cell_type": "code",
   "execution_count": 4,
   "metadata": {},
   "outputs": [
    {
     "data": {
      "text/plain": [
       "'/nfs/kun2/users/homer/datasets/bridge_data_all/numpy_256/bridge_data_v2/deepthought_folding_table/stack_blocks/19/train/out.npy'"
      ]
     },
     "execution_count": 4,
     "metadata": {},
     "output_type": "execute_result"
    }
   ],
   "source": [
    "for file_name in reasoning_dataset.keys():\n",
    "    break\n",
    "file_name"
   ]
  },
  {
   "cell_type": "code",
   "execution_count": 5,
   "metadata": {},
   "outputs": [
    {
     "data": {
      "text/plain": [
       "'43'"
      ]
     },
     "execution_count": 5,
     "metadata": {},
     "output_type": "execute_result"
    }
   ],
   "source": [
    "for epsoid_id in reasoning_dataset[file_name].keys():\n",
    "    break\n",
    "epsoid_id"
   ]
  },
  {
   "cell_type": "code",
   "execution_count": 8,
   "metadata": {},
   "outputs": [
    {
     "data": {
      "text/plain": [
       "dict_keys(['features', 'metadata', 'reasoning'])"
      ]
     },
     "execution_count": 8,
     "metadata": {},
     "output_type": "execute_result"
    }
   ],
   "source": [
    "reasoning_dataset[file_name][epsoid_id].keys()"
   ]
  },
  {
   "cell_type": "code",
   "execution_count": 10,
   "metadata": {},
   "outputs": [
    {
     "data": {
      "text/plain": [
       "dict_keys(['move_primitive', 'gripper_position', 'bboxes'])"
      ]
     },
     "execution_count": 10,
     "metadata": {},
     "output_type": "execute_result"
    }
   ],
   "source": [
    "reasoning_dataset[file_name][epsoid_id][\"features\"].keys()"
   ]
  },
  {
   "cell_type": "code",
   "execution_count": 11,
   "metadata": {},
   "outputs": [
    {
     "data": {
      "text/plain": [
       "dict_keys(['episode_id', 'file_path', 'n_steps', 'language_instruction'])"
      ]
     },
     "execution_count": 11,
     "metadata": {},
     "output_type": "execute_result"
    }
   ],
   "source": [
    "reasoning_dataset[file_name][epsoid_id][\"metadata\"].keys()"
   ]
  },
  {
   "cell_type": "code",
   "execution_count": 12,
   "metadata": {},
   "outputs": [
    {
     "data": {
      "text/plain": [
       "dict_keys(['0', '1', '2', '3', '4', '5', '6', '7', '8', '9', '10', '11', '12', '13', '14', '15', '16', '17', '18', '19', '20', '21', '22', '23', '24', '25', '26', '27', '28', '29', '30', '31', '32', '33', '34', '35', '36', '37', '38', '39'])"
      ]
     },
     "execution_count": 12,
     "metadata": {},
     "output_type": "execute_result"
    }
   ],
   "source": [
    "reasoning_dataset[file_name][epsoid_id][\"reasoning\"].keys()"
   ]
  },
  {
   "cell_type": "code",
   "execution_count": 14,
   "metadata": {},
   "outputs": [
    {
     "data": {
      "text/plain": [
       "{'task': 'Move the wooden arch onto the table.',\n",
       " 'plan': 'Reach for the wooden arch. Grasp the wooden arch. Move the wooden arch to the table. Drop the wooden arch onto the table.',\n",
       " 'subtask': 'Reach for the wooden arch.',\n",
       " 'subtask_reason': 'The wooden arch is the object that needs to be moved, so the first step is to reach for it.',\n",
       " 'move': 'stop',\n",
       " 'move_reason': 'The arm is already in a good position to reach for the wooden arch.'}"
      ]
     },
     "execution_count": 14,
     "metadata": {},
     "output_type": "execute_result"
    }
   ],
   "source": [
    "reasoning_dataset[file_name][epsoid_id][\"reasoning\"]['0']"
   ]
  },
  {
   "cell_type": "code",
   "execution_count": 15,
   "metadata": {},
   "outputs": [
    {
     "data": {
      "text/plain": [
       "{'episode_id': 43,\n",
       " 'file_path': '/nfs/kun2/users/homer/datasets/bridge_data_all/numpy_256/bridge_data_v2/deepthought_folding_table/stack_blocks/19/train/out.npy',\n",
       " 'n_steps': 40,\n",
       " 'language_instruction': 'move the wooden arch to the table'}"
      ]
     },
     "execution_count": 15,
     "metadata": {},
     "output_type": "execute_result"
    }
   ],
   "source": [
    "reasoning_dataset[file_name][epsoid_id][\"metadata\"]"
   ]
  },
  {
   "cell_type": "code",
   "execution_count": 20,
   "metadata": {},
   "outputs": [
    {
     "data": {
      "text/plain": [
       "'stop'"
      ]
     },
     "execution_count": 20,
     "metadata": {},
     "output_type": "execute_result"
    }
   ],
   "source": [
    "reasoning_dataset[file_name][epsoid_id][\"features\"]['move_primitive'][0]"
   ]
  },
  {
   "cell_type": "code",
   "execution_count": 21,
   "metadata": {},
   "outputs": [
    {
     "data": {
      "text/plain": [
       "[97, 45]"
      ]
     },
     "execution_count": 21,
     "metadata": {},
     "output_type": "execute_result"
    }
   ],
   "source": [
    "reasoning_dataset[file_name][epsoid_id][\"features\"]['gripper_position'][0]"
   ]
  },
  {
   "cell_type": "code",
   "execution_count": 22,
   "metadata": {},
   "outputs": [
    {
     "data": {
      "text/plain": [
       "[[0.3405100107192993, 'wooden blocks', [150, 4, 188, 100]]]"
      ]
     },
     "execution_count": 22,
     "metadata": {},
     "output_type": "execute_result"
    }
   ],
   "source": [
    "reasoning_dataset[file_name][epsoid_id][\"features\"]['bboxes'][0]"
   ]
  },
  {
   "cell_type": "code",
   "execution_count": 19,
   "metadata": {},
   "outputs": [
    {
     "data": {
      "text/plain": [
       "40"
      ]
     },
     "execution_count": 19,
     "metadata": {},
     "output_type": "execute_result"
    }
   ],
   "source": [
    "len(reasoning_dataset[file_name][epsoid_id][\"features\"]['move_primitive'])"
   ]
  },
  {
   "cell_type": "code",
   "execution_count": null,
   "metadata": {},
   "outputs": [],
   "source": []
  },
  {
   "cell_type": "code",
   "execution_count": null,
   "metadata": {},
   "outputs": [],
   "source": []
  }
 ],
 "metadata": {
  "kernelspec": {
   "display_name": "robot",
   "language": "python",
   "name": "python3"
  },
  "language_info": {
   "codemirror_mode": {
    "name": "ipython",
    "version": 3
   },
   "file_extension": ".py",
   "mimetype": "text/x-python",
   "name": "python",
   "nbconvert_exporter": "python",
   "pygments_lexer": "ipython3",
   "version": "3.10.0"
  }
 },
 "nbformat": 4,
 "nbformat_minor": 2
}
