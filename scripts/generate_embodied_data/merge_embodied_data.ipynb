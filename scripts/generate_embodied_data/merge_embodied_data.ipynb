{
 "cells": [
  {
   "cell_type": "code",
   "execution_count": 1,
   "metadata": {},
   "outputs": [],
   "source": [
    "import json\n",
    "import os\n",
    "import numpy as np"
   ]
  },
  {
   "cell_type": "markdown",
   "metadata": {},
   "source": [
    "### gripper_position \"gripper\""
   ]
  },
  {
   "cell_type": "code",
   "execution_count": 2,
   "metadata": {},
   "outputs": [
    {
     "name": "stdout",
     "output_type": "stream",
     "text": [
      "len keys:  10\n"
     ]
    }
   ],
   "source": [
    "gripper_results_path = '/home/lixiang/codebase/embodied-CoT/scripts/generate_embodied_data/bounding_boxes/gripper_position'\n",
    "gripper_results_json_path = os.path.join(gripper_results_path, \"gripper_position_libero.json\")\n",
    "\n",
    "with open(gripper_results_json_path, 'r') as f:\n",
    "    gripper_results = json.load(f)\n",
    "print('len keys: ', len(gripper_results.keys()))"
   ]
  },
  {
   "cell_type": "code",
   "execution_count": 3,
   "metadata": {},
   "outputs": [
    {
     "name": "stdout",
     "output_type": "stream",
     "text": [
      "432\n"
     ]
    }
   ],
   "source": [
    "total_num = 0\n",
    "for file_name in gripper_results.keys():\n",
    "    epsoide_num = len(gripper_results[file_name].keys())\n",
    "    total_num += epsoide_num\n",
    "    #print(epsoide_num)\n",
    "print(total_num)"
   ]
  },
  {
   "cell_type": "markdown",
   "metadata": {},
   "source": [
    "### bounding box \"bboxes\""
   ]
  },
  {
   "cell_type": "code",
   "execution_count": 4,
   "metadata": {},
   "outputs": [
    {
     "name": "stdout",
     "output_type": "stream",
     "text": [
      "len keys:  10\n"
     ]
    }
   ],
   "source": [
    "bbox_results_path = '/home/lixiang/codebase/embodied-CoT/scripts/generate_embodied_data/bounding_boxes/bboxes'\n",
    "bbox_results_json_path = os.path.join(bbox_results_path, \"full_bboxes.json\")\n",
    "with open(bbox_results_json_path, 'r') as f:\n",
    "    bbox_results = json.load(f)\n",
    "print('len keys: ', len(bbox_results.keys()))"
   ]
  },
  {
   "cell_type": "code",
   "execution_count": 5,
   "metadata": {},
   "outputs": [
    {
     "name": "stdout",
     "output_type": "stream",
     "text": [
      "432\n"
     ]
    }
   ],
   "source": [
    "total_num = 0\n",
    "for file_name in bbox_results.keys():\n",
    "    epsoide_num = len(bbox_results[file_name].keys())\n",
    "    total_num += epsoide_num\n",
    "    #print(epsoide_num)\n",
    "print(total_num)"
   ]
  },
  {
   "cell_type": "code",
   "execution_count": 6,
   "metadata": {},
   "outputs": [
    {
     "data": {
      "text/plain": [
       "[[0.5717099905014038, 'a black bowl', [225, 96, 255, 134]]]"
      ]
     },
     "execution_count": 6,
     "metadata": {},
     "output_type": "execute_result"
    }
   ],
   "source": [
    "bbox_results[file_name]['29']['bboxes'][0]"
   ]
  },
  {
   "cell_type": "markdown",
   "metadata": {},
   "source": [
    "### reasoning \"task\" \"plan\" \"subtask\" \"subtask_reason\" \"move\" \"move_reason\" "
   ]
  },
  {
   "cell_type": "code",
   "execution_count": 7,
   "metadata": {},
   "outputs": [
    {
     "name": "stdout",
     "output_type": "stream",
     "text": [
      "len keys:  10\n"
     ]
    }
   ],
   "source": [
    "reasoning_results_path = '/home/lixiang/codebase/embodied-CoT/scripts/generate_embodied_data'\n",
    "reasoning_results_json_path = os.path.join(reasoning_results_path, \"full_reasonings_libero_spatial.json\")\n",
    "with open(reasoning_results_json_path, 'r') as f:\n",
    "    reasoning_results = json.load(f)\n",
    "print('len keys: ', len(bbox_results.keys()))"
   ]
  },
  {
   "cell_type": "code",
   "execution_count": 8,
   "metadata": {},
   "outputs": [
    {
     "name": "stdout",
     "output_type": "stream",
     "text": [
      "432\n"
     ]
    }
   ],
   "source": [
    "total_num = 0\n",
    "for file_name in reasoning_results.keys():\n",
    "    epsoide_num = len(reasoning_results[file_name].keys())\n",
    "    total_num += epsoide_num\n",
    "    #print(epsoide_num)\n",
    "print(total_num)"
   ]
  },
  {
   "cell_type": "markdown",
   "metadata": {},
   "source": [
    "### Merge gripper position and bboxes into reasonings['features']"
   ]
  },
  {
   "cell_type": "code",
   "execution_count": 23,
   "metadata": {},
   "outputs": [],
   "source": [
    "for file_name in reasoning_results.keys():\n",
    "    for epsoid_id in reasoning_results[file_name].keys():\n",
    "        break"
   ]
  },
  {
   "cell_type": "code",
   "execution_count": 24,
   "metadata": {},
   "outputs": [
    {
     "data": {
      "text/plain": [
       "dict_keys(['state_3d', 'move_primitive', 'gripper_position', 'bboxes'])"
      ]
     },
     "execution_count": 24,
     "metadata": {},
     "output_type": "execute_result"
    }
   ],
   "source": [
    "reasoning_results[file_name][epsoid_id]['features'].keys()"
   ]
  },
  {
   "cell_type": "code",
   "execution_count": 25,
   "metadata": {},
   "outputs": [
    {
     "data": {
      "text/plain": [
       "dict_keys(['0', '1', '2', '3', '4', '5', '6', '7', '8', '9', '10', '11', '12', '13', '14', '15', '16', '17', '18', '19', '20', '21', '22', '23', '24', '25', '26', '27', '28', '29', '30', '31', '32', '33', '34', '35', '36', '37', '38', '39', '40', '41', '42', '43', '44', '45', '46', '47', '48', '49', '50', '51', '52', '53', '54', '55', '56', '57', '58', '59', '60', '61', '62', '63', '64', '65', '66', '67', '68', '69', '70', '71', '72', '73', '74', '75', '76', '77', '78', '79', '80', '81', '82', '83', '84', '85', '86', '87', '88', '89', '90', '91', '92', '93', '94', '95', '96', '97', '98', '99', '100', '101', '102', '103', '104', '105', '106', '107', '108', '109', '110', '111', '112', '113', '114', '115', '116', '117', '118', '119', '120', '121', '122', '123', '124', '125', '126', '127', '128', '129', '130', '131', '132', '133', '134', '135', '136', '137', '138', '139', '140', '141', '142', '143', '144', '145', '146', '147', '148', '149', '150', '151', '152', '153', '154', '155', '156', '157', '158', '159', '160', '161', '162', '163'])"
      ]
     },
     "execution_count": 25,
     "metadata": {},
     "output_type": "execute_result"
    }
   ],
   "source": [
    "reasoning_results[file_name][epsoid_id]['reasoning'].keys()"
   ]
  },
  {
   "cell_type": "code",
   "execution_count": 26,
   "metadata": {},
   "outputs": [],
   "source": [
    "gripper = gripper_results[file_name][epsoid_id]\n",
    "bboxes = bbox_results[file_name][epsoid_id]\n"
   ]
  },
  {
   "cell_type": "code",
   "execution_count": 27,
   "metadata": {},
   "outputs": [
    {
     "data": {
      "text/plain": [
       "164"
      ]
     },
     "execution_count": 27,
     "metadata": {},
     "output_type": "execute_result"
    }
   ],
   "source": [
    "len(bboxes['bboxes'])"
   ]
  },
  {
   "cell_type": "code",
   "execution_count": 16,
   "metadata": {},
   "outputs": [
    {
     "data": {
      "text/plain": [
       "164"
      ]
     },
     "execution_count": 16,
     "metadata": {},
     "output_type": "execute_result"
    }
   ],
   "source": [
    "len(gripper[\"'gripper_position\"])"
   ]
  },
  {
   "cell_type": "code",
   "execution_count": 17,
   "metadata": {},
   "outputs": [],
   "source": [
    "for file_name in reasoning_results.keys():\n",
    "    for epsoid_id in reasoning_results[file_name].keys():\n",
    "        gripper = gripper_results[file_name][epsoid_id]\n",
    "        bboxes = bbox_results[file_name][epsoid_id]\n",
    "        reasoning_results[file_name][epsoid_id][\"features\"]['gripper_position'] = gripper[\"'gripper_position\"]\n",
    "        reasoning_results[file_name][epsoid_id][\"features\"]['bboxes'] = bboxes['bboxes']"
   ]
  },
  {
   "cell_type": "code",
   "execution_count": 32,
   "metadata": {},
   "outputs": [
    {
     "data": {
      "text/plain": [
       "dict_keys(['state_3d', 'move_primitive', 'gripper_position', 'bboxes'])"
      ]
     },
     "execution_count": 32,
     "metadata": {},
     "output_type": "execute_result"
    }
   ],
   "source": [
    "reasoning_results[file_name][epsoid_id][\"features\"].keys()"
   ]
  },
  {
   "cell_type": "code",
   "execution_count": 33,
   "metadata": {},
   "outputs": [
    {
     "data": {
      "text/plain": [
       "[126, 86]"
      ]
     },
     "execution_count": 33,
     "metadata": {},
     "output_type": "execute_result"
    }
   ],
   "source": [
    "reasoning_results[file_name][epsoid_id][\"features\"]['gripper_position'][0]"
   ]
  },
  {
   "cell_type": "code",
   "execution_count": 34,
   "metadata": {},
   "outputs": [
    {
     "data": {
      "text/plain": [
       "[[0.5717099905014038, 'a black bowl', [225, 96, 255, 134]]]"
      ]
     },
     "execution_count": 34,
     "metadata": {},
     "output_type": "execute_result"
    }
   ],
   "source": [
    "reasoning_results[file_name][epsoid_id][\"features\"]['bboxes'][0]"
   ]
  },
  {
   "cell_type": "code",
   "execution_count": 35,
   "metadata": {},
   "outputs": [
    {
     "data": {
      "text/plain": [
       "'stop'"
      ]
     },
     "execution_count": 35,
     "metadata": {},
     "output_type": "execute_result"
    }
   ],
   "source": [
    "reasoning_results[file_name][epsoid_id][\"features\"]['move_primitive'][0]"
   ]
  },
  {
   "cell_type": "code",
   "execution_count": 36,
   "metadata": {},
   "outputs": [
    {
     "data": {
      "text/plain": [
       "{'task': 'Pick up the black bowl on the wooden cabinet and place it on the plate.',\n",
       " 'plan': '1. Move forward to the cabinet. 2. Move up to the height of the bowl. 3. Move left to align with the bowl. 4. Move down to grasp the bowl. 5. Move to the plate. 6. Place the bowl.',\n",
       " 'subtask': 'Move forward to the cabinet.',\n",
       " 'subtask_reason': 'The robotic arm needs to approach the wooden cabinet where the black bowl is located.',\n",
       " 'move': 'stop',\n",
       " 'move_reason': 'The arm is currently stationary, preparing to move forward.'}"
      ]
     },
     "execution_count": 36,
     "metadata": {},
     "output_type": "execute_result"
    }
   ],
   "source": [
    "reasoning_results[file_name][epsoid_id][\"reasoning\"]['0']"
   ]
  },
  {
   "cell_type": "code",
   "execution_count": 37,
   "metadata": {},
   "outputs": [
    {
     "data": {
      "text/plain": [
       "{'episode_id': '29',\n",
       " 'file_path': '/iris/u/moojink/prismatic-dev/LIBERO/libero/datasets/regenerated--no_noops/libero_spatial/pick_up_the_black_bowl_on_the_wooden_cabinet_and_place_it_on_the_plate_demo.hdf5',\n",
       " 'n_steps': 164,\n",
       " 'language_instruction': 'pick up the black bowl on the wooden cabinet and place it on the plate',\n",
       " 'caption': 'A black bowl is on the wooden cabinet, a white plate is on the wooden table, and the robot task is to pick up the black bowl and place it on the plate.'}"
      ]
     },
     "execution_count": 37,
     "metadata": {},
     "output_type": "execute_result"
    }
   ],
   "source": [
    "reasoning_results[file_name][epsoid_id]['metadata']"
   ]
  },
  {
   "cell_type": "code",
   "execution_count": 38,
   "metadata": {},
   "outputs": [
    {
     "name": "stderr",
     "output_type": "stream",
     "text": [
      "2024-10-22 16:02:36.571784: E external/local_xla/xla/stream_executor/cuda/cuda_dnn.cc:9261] Unable to register cuDNN factory: Attempting to register factory for plugin cuDNN when one has already been registered\n",
      "2024-10-22 16:02:36.571868: E external/local_xla/xla/stream_executor/cuda/cuda_fft.cc:607] Unable to register cuFFT factory: Attempting to register factory for plugin cuFFT when one has already been registered\n",
      "2024-10-22 16:02:36.572860: E external/local_xla/xla/stream_executor/cuda/cuda_blas.cc:1515] Unable to register cuBLAS factory: Attempting to register factory for plugin cuBLAS when one has already been registered\n",
      "2024-10-22 16:02:36.579136: I tensorflow/core/platform/cpu_feature_guard.cc:182] This TensorFlow binary is optimized to use available CPU instructions in performance-critical operations.\n",
      "To enable the following instructions: AVX2 FMA, in other operations, rebuild TensorFlow with the appropriate compiler flags.\n",
      "2024-10-22 16:02:37.435870: W tensorflow/compiler/tf2tensorrt/utils/py_utils.cc:38] TF-TRT Warning: Could not find TensorRT\n"
     ]
    }
   ],
   "source": [
    "import tensorflow_datasets as tfds\n",
    "from prismatic import load\n",
    "# 数据集所在的目录路径\n",
    "data_dir = '/home/lixiang/codebase/embodied-CoT/datasets/libero/libero_spatial_no_noops/1.0.0'\n",
    "# 从本地目录加载数据集\n",
    "builder = tfds.builder_from_directory(data_dir)\n",
    "\n",
    "# 加载数据集的不同切分（例如训练集）\n",
    "ds_train = builder.as_dataset(split='train')\n",
    "\n",
    "import tensorflow_datasets as tfds\n",
    "# 数据集所在的目录路径\n",
    "new_data_dir = '/home/lixiang/codebase/embodied-CoT/datasets/libero_spatial/libero_spatial/1.0.0'\n",
    "# 从本地目录加载数据集\n",
    "new_builder = tfds.builder_from_directory(new_data_dir)\n",
    "\n",
    "# 加载数据集的不同切分（例如训练集）\n",
    "new_ds_train = new_builder.as_dataset(split='train')"
   ]
  },
  {
   "cell_type": "code",
   "execution_count": 40,
   "metadata": {},
   "outputs": [],
   "source": [
    "# index from origin libero dataset to new libero dataset with 'episode_id'\n",
    "index_np = np.load('/home/lixiang/codebase/embodied-CoT/datasets/libero_spatial/index.npy')"
   ]
  },
  {
   "cell_type": "code",
   "execution_count": 41,
   "metadata": {},
   "outputs": [],
   "source": [
    "new_reasoning_results = {}"
   ]
  },
  {
   "cell_type": "code",
   "execution_count": 42,
   "metadata": {},
   "outputs": [],
   "source": [
    "for file_name in reasoning_results.keys():\n",
    "    if file_name not in new_reasoning_results:\n",
    "        new_reasoning_results[file_name] = {}\n",
    "    for epsoid_id in reasoning_results[file_name].keys():\n",
    "        new_epsoid_id = str(index_np[int(epsoid_id)])\n",
    "        new_reasoning_results[file_name][new_epsoid_id] = reasoning_results[file_name][epsoid_id]\n",
    "        new_reasoning_results[file_name][new_epsoid_id]['metadata']['episode_id'] = new_epsoid_id"
   ]
  },
  {
   "cell_type": "code",
   "execution_count": 60,
   "metadata": {},
   "outputs": [],
   "source": [
    "for epsoide in ds_train:\n",
    "    break"
   ]
  },
  {
   "cell_type": "code",
   "execution_count": 61,
   "metadata": {},
   "outputs": [],
   "source": [
    "for new_epsoide in new_ds_train:\n",
    "    break"
   ]
  },
  {
   "cell_type": "code",
   "execution_count": 62,
   "metadata": {},
   "outputs": [
    {
     "name": "stdout",
     "output_type": "stream",
     "text": [
      "/iris/u/moojink/prismatic-dev/LIBERO/libero/datasets/regenerated--no_noops/libero_spatial/pick_up_the_black_bowl_on_the_ramekin_and_place_it_on_the_plate_demo.hdf5 386\n"
     ]
    }
   ],
   "source": [
    "file_path = new_epsoide['episode_metadata']['file_path'].numpy().decode()\n",
    "id = new_epsoide['episode_metadata']['episode_id'].numpy()\n",
    "print(file_path, id)"
   ]
  },
  {
   "cell_type": "code",
   "execution_count": 64,
   "metadata": {},
   "outputs": [],
   "source": [
    "new_id = str(index_np[int(id)])"
   ]
  },
  {
   "cell_type": "code",
   "execution_count": 65,
   "metadata": {},
   "outputs": [
    {
     "data": {
      "text/plain": [
       "{'episode_id': '0',\n",
       " 'file_path': '/iris/u/moojink/prismatic-dev/LIBERO/libero/datasets/regenerated--no_noops/libero_spatial/pick_up_the_black_bowl_on_the_ramekin_and_place_it_on_the_plate_demo.hdf5',\n",
       " 'n_steps': 120,\n",
       " 'language_instruction': 'pick up the black bowl on the ramekin and place it on the plate',\n",
       " 'caption': 'A black bowl is on a ramekin, which is on a plate. The black bowl is to be picked up by a robot and placed on the plate.'}"
      ]
     },
     "execution_count": 65,
     "metadata": {},
     "output_type": "execute_result"
    }
   ],
   "source": [
    "new_reasoning_results[file_path][new_id]['metadata']"
   ]
  },
  {
   "cell_type": "code",
   "execution_count": 67,
   "metadata": {},
   "outputs": [
    {
     "data": {
      "text/plain": [
       "{'episode_id': '0',\n",
       " 'file_path': '/iris/u/moojink/prismatic-dev/LIBERO/libero/datasets/regenerated--no_noops/libero_spatial/pick_up_the_black_bowl_on_the_ramekin_and_place_it_on_the_plate_demo.hdf5',\n",
       " 'n_steps': 120,\n",
       " 'language_instruction': 'pick up the black bowl on the ramekin and place it on the plate',\n",
       " 'caption': 'A black bowl is on a ramekin, which is on a plate. The black bowl is to be picked up by a robot and placed on the plate.'}"
      ]
     },
     "execution_count": 67,
     "metadata": {},
     "output_type": "execute_result"
    }
   ],
   "source": [
    "reasoning_results[file_path][str(id)]['metadata']"
   ]
  },
  {
   "cell_type": "code",
   "execution_count": 70,
   "metadata": {},
   "outputs": [],
   "source": [
    "reasoning_results_path = '/home/lixiang/codebase/embodied-CoT/scripts/generate_embodied_data'\n",
    "reasoning_results_out_json_path = os.path.join(reasoning_results_path, \"embodied_features_libero_spatial.json\")\n"
   ]
  },
  {
   "cell_type": "code",
   "execution_count": null,
   "metadata": {},
   "outputs": [],
   "source": []
  },
  {
   "cell_type": "code",
   "execution_count": 71,
   "metadata": {},
   "outputs": [],
   "source": [
    "import numpy as np\n",
    "def custom_serializer(obj):\n",
    "    if isinstance(obj, np.float32):\n",
    "        return float(obj)\n",
    "    raise TypeError(f'Object of type {obj.__class__.__name__} is not JSON serializable')\n",
    "\n",
    "with open(reasoning_results_out_json_path, \"w\") as out_f:\n",
    "    json.dump(reasoning_results, out_f)"
   ]
  },
  {
   "cell_type": "code",
   "execution_count": null,
   "metadata": {},
   "outputs": [],
   "source": []
  }
 ],
 "metadata": {
  "kernelspec": {
   "display_name": "robot",
   "language": "python",
   "name": "python3"
  },
  "language_info": {
   "codemirror_mode": {
    "name": "ipython",
    "version": 3
   },
   "file_extension": ".py",
   "mimetype": "text/x-python",
   "name": "python",
   "nbconvert_exporter": "python",
   "pygments_lexer": "ipython3",
   "version": "3.10.0"
  }
 },
 "nbformat": 4,
 "nbformat_minor": 2
}
