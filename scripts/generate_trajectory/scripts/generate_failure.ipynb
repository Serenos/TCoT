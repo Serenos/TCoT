{
 "cells": [
  {
   "cell_type": "code",
   "execution_count": null,
   "metadata": {
    "vscode": {
     "languageId": "plaintext"
    }
   },
   "outputs": [],
   "source": [
    "\n",
    "import tensorflow_datasets as tfds\n",
    "from prismatic import load # ?important for tfds to not cost GPU memory\n",
    "from sklearn.linear_model import RANSACRegressor\n",
    "import cv2\n",
    "import matplotlib\n",
    "import mediapy\n",
    "from IPython import display\n",
    "from PIL import Image\n",
    "from matplotlib import pyplot as plt"
   ]
  },
  {
   "cell_type": "code",
   "execution_count": null,
   "metadata": {
    "vscode": {
     "languageId": "plaintext"
    }
   },
   "outputs": [],
   "source": [
    "import h5py\n",
    "import glob\n",
    "\n",
    "paths = glob.glob(\"/home/lixiang/codebase/embodied-CoT/datasets/LIBERO/libero_spatial_failure_500try/*.hdf5\")\n",
    "for path in paths:\n",
    "    with h5py.File(path, \"r\") as F:\n",
    "        print(F['data'].keys())"
   ]
  },
  {
   "cell_type": "code",
   "execution_count": null,
   "metadata": {
    "vscode": {
     "languageId": "plaintext"
    }
   },
   "outputs": [],
   "source": [
    "local_path=\"/home/lixiang/codebase/embodied-CoT/datasets/libero_new/libero_spatial/1.0.0\"\n",
    "builder = tfds.builder_from_directory(builder_dir=local_path)\n",
    "ds = builder.as_dataset(split=f'train[{0}%:{100}%]')\n"
   ]
  },
  {
   "cell_type": "code",
   "execution_count": null,
   "metadata": {
    "vscode": {
     "languageId": "plaintext"
    }
   },
   "outputs": [],
   "source": [
    "for i, episode in enumerate(ds):\n",
    "    episode_id = episode[\"episode_metadata\"][\"episode_id\"].numpy()\n",
    "    #print(f'{i}: {episode_id}')\n",
    "    if i == 316:\n",
    "        break"
   ]
  },
  {
   "cell_type": "code",
   "execution_count": null,
   "metadata": {
    "vscode": {
     "languageId": "plaintext"
    }
   },
   "outputs": [],
   "source": [
    "images = [step[\"observation\"]['image'] for step in episode[\"steps\"]]\n",
    "images_1 = [Image.fromarray(image.numpy()) for image in images]\n",
    "def as_gif(images, path=f'success_{episode_id}.gif'):\n",
    "  # Render the images as the gif:\n",
    "  images[0].save(path, save_all=True, append_images=images[1:], duration=100, loop=0)\n",
    "  gif_bytes = open(path,'rb').read()\n",
    "  return gif_bytes\n",
    "display.Image(as_gif(images_1))\n",
    "\n",
    "# images_2 = [img.numpy() for img in images]\n",
    "# mediapy.show_video(images_2, fps=10)"
   ]
  },
  {
   "cell_type": "code",
   "execution_count": null,
   "metadata": {
    "vscode": {
     "languageId": "plaintext"
    }
   },
   "outputs": [],
   "source": [
    "is_terminal = [step[\"is_terminal\"].numpy() for step in episode[\"steps\"]]\n",
    "reward = [step[\"reward\"].numpy()  for step in episode[\"steps\"]]\n",
    "print(is_terminal)\n",
    "print(reward)"
   ]
  }
 ],
 "metadata": {
  "language_info": {
   "name": "python"
  }
 },
 "nbformat": 4,
 "nbformat_minor": 2
}
